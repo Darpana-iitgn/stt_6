{
 "cells": [
  {
   "cell_type": "code",
   "execution_count": null,
   "metadata": {},
   "outputs": [],
   "source": [
    "# Importing libraries\n",
    "\n",
    "import numpy as np\n",
    "from sklearn.datasets import make_classification\n",
    "from sklearn.model_selection import train_test_split\n",
    "from sklearn.preprocessing import StandardScaler\n",
    "from sklearn.metrics import accuracy_score, f1_score, confusion_matrix\n",
    "import matplotlib.pyplot as plt\n",
    "import seaborn as sns"
   ]
  },
  {
   "cell_type": "code",
   "execution_count": null,
   "metadata": {},
   "outputs": [],
   "source": [
    "# Generate synthetic binary classification data\n",
    "X, y = make_classification(n_samples=1000, n_features=20, n_classes=2, random_state=42)\n",
    "\n",
    "# Split the data\n",
    "X_train, X_test, y_train, y_test = train_test_split(X, y, test_size=0.2, random_state=42)\n",
    "\n",
    "# Standardize the features\n",
    "scaler = StandardScaler()\n",
    "X_train = scaler.fit_transform(X_train)\n",
    "X_test = scaler.transform(X_test)"
   ]
  },
  {
   "cell_type": "code",
   "execution_count": null,
   "metadata": {},
   "outputs": [],
   "source": [
    "# Define the model using NumPy\n",
    "\n",
    "class SimpleNeuralNetwork:\n",
    "    def __init__(self, input_size, hidden_size, output_size):\n",
    "        self.W1 = np.random.randn(input_size, hidden_size) * 0.01\n",
    "        self.b1 = np.zeros((1, hidden_size))\n",
    "        self.W2 = np.random.randn(hidden_size, output_size) * 0.01\n",
    "        self.b2 = np.zeros((1, output_size))\n",
    "\n",
    "    def sigmoid(self, x):\n",
    "        return 1 / (1 + np.exp(-x))\n",
    "\n",
    "    def forward(self, X):\n",
    "        self.z1 = np.dot(X, self.W1) + self.b1\n",
    "        self.a1 = np.maximum(0, self.z1)  # ReLU activation\n",
    "        self.z2 = np.dot(self.a1, self.W2) + self.b2\n",
    "        self.a2 = self.sigmoid(self.z2)\n",
    "        return self.a2\n",
    "\n",
    "    def backward(self, X, y, learning_rate):\n",
    "        m = X.shape[0]\n",
    "        dZ2 = self.a2 - y.reshape(-1, 1)\n",
    "        dW2 = np.dot(self.a1.T, dZ2) / m\n",
    "        db2 = np.sum(dZ2, axis=0, keepdims=True) / m\n",
    "        dZ1 = np.dot(dZ2, self.W2.T) * (self.z1 > 0)\n",
    "        dW1 = np.dot(X.T, dZ1) / m\n",
    "        db1 = np.sum(dZ1, axis=0, keepdims=True) / m\n",
    "\n",
    "        self.W2 -= learning_rate * dW2\n",
    "        self.b2 -= learning_rate * db2\n",
    "        self.W1 -= learning_rate * dW1\n",
    "        self.b1 -= learning_rate * db1\n",
    "\n",
    "    def train(self, X, y, batch_size, epochs, learning_rate):\n",
    "        for _ in range(epochs):\n",
    "            for i in range(0, X.shape[0], batch_size):\n",
    "                X_batch = X[i:i+batch_size]\n",
    "                y_batch = y[i:i+batch_size]\n",
    "                self.forward(X_batch)\n",
    "                self.backward(X_batch, y_batch, learning_rate)\n",
    "\n",
    "    def predict(self, X):\n",
    "        return (self.forward(X) > 0.5).astype(int)"
   ]
  },
  {
   "cell_type": "code",
   "execution_count": null,
   "metadata": {},
   "outputs": [
    {
     "name": "stdout",
     "output_type": "stream",
     "text": [
      "Best parameters: {'batch_size': 2, 'learning_rate': 1e-05, 'epochs': 5}\n"
     ]
    }
   ],
   "source": [
    "# Hyperparameter search\n",
    "\n",
    "batch_sizes = [2, 4]\n",
    "learning_rates = [1e-3, 1e-5]\n",
    "epochs_list = [1, 3, 5]\n",
    "\n",
    "best_accuracy = 0\n",
    "best_params = {}\n",
    "best_model = None\n",
    "\n",
    "for batch_size in batch_sizes:\n",
    "    for learning_rate in learning_rates:\n",
    "        for epochs in epochs_list:\n",
    "            model = SimpleNeuralNetwork(input_size=20, hidden_size=16, output_size=1)\n",
    "            model.train(X_train, y_train, batch_size=batch_size, epochs=epochs, learning_rate=learning_rate)\n",
    "            \n",
    "            y_pred = model.predict(X_test)\n",
    "            accuracy = accuracy_score(y_test, y_pred)\n",
    "            \n",
    "            if accuracy > best_accuracy:\n",
    "                best_accuracy = accuracy\n",
    "                best_params = {'batch_size': batch_size, 'learning_rate': learning_rate, 'epochs': epochs}\n",
    "                best_model = model\n",
    "\n",
    "print(f\"Best parameters: {best_params}\")"
   ]
  },
  {
   "cell_type": "code",
   "execution_count": null,
   "metadata": {},
   "outputs": [
    {
     "name": "stdout",
     "output_type": "stream",
     "text": [
      "Test Accuracy: 0.5700\n",
      "Test F1 Score: 0.5275\n"
     ]
    }
   ],
   "source": [
    "# Evaluate on test set\n",
    "\n",
    "y_pred = best_model.predict(X_test)\n",
    "accuracy = accuracy_score(y_test, y_pred)\n",
    "f1 = f1_score(y_test, y_pred)\n",
    "\n",
    "print(f\"Test Accuracy: {accuracy:.4f}\")\n",
    "print(f\"Test F1 Score: {f1:.4f}\")"
   ]
  },
  {
   "cell_type": "code",
   "execution_count": null,
   "metadata": {},
   "outputs": [
    {
     "data": {
      "image/png": "[encoded data removed]",
      "text/plain": [
       "<Figure size 800x600 with 2 Axes>"
      ]
     },
     "metadata": {},
     "output_type": "display_data"
    }
   ],
   "source": [
    "# Plot confusion matrix\n",
    "\n",
    "cm = confusion_matrix(y_test, y_pred)\n",
    "plt.figure(figsize=(8, 6))\n",
    "sns.heatmap(cm, annot=True, fmt='d', cmap='Blues')\n",
    "plt.title('Confusion Matrix')\n",
    "plt.xlabel('Predicted')\n",
    "plt.ylabel('True')\n",
    "plt.show()"
   ]
  },
  {
   "cell_type": "code",
   "execution_count": null,
   "metadata": {},
   "outputs": [
    {
     "name": "stdout",
     "output_type": "stream",
     "text": [
      "Sample 29:\n",
      "Input: [ 0.61672415 -1.37617403 -0.33933781  0.08739998 -0.33992379  1.00194979\n",
      " -0.1890738   2.18826803 -1.14024013  0.98790857  0.88788339  0.18231877\n",
      "  2.79063221 -0.50069967  1.08260672  0.40312363  0.50014436  0.63880913\n",
      " -1.24678139  0.03474501]\n",
      "True label: 1\n",
      "Predicted probability: 0.4998\n",
      "Predicted label: 0\n",
      "\n",
      "Sample 142:\n",
      "Input: [-2.59035176  0.10283638  0.4764539   0.32313836 -0.54154066  1.59492857\n",
      " -0.62388024 -3.26953222 -0.75811697  0.47266054 -0.48170418  1.36712876\n",
      " -1.7273379   0.07298053 -1.97544877  0.3025639   1.32739213  0.63634492\n",
      " -0.83480187 -0.37921185]\n",
      "True label: 1\n",
      "Predicted probability: 0.5001\n",
      "Predicted label: 1\n",
      "\n",
      "Sample 27:\n",
      "Input: [ 2.17335372 -0.26586987  0.1750204  -0.90250274 -0.36666461  0.67810611\n",
      "  0.76492095  0.38289473 -0.7479861  -2.09392891  0.44415412  0.54702531\n",
      "  0.39588401  0.18582022 -0.34059688  0.00974103 -0.39178866  0.20711582\n",
      " -0.51014538  0.26165169]\n",
      "True label: 0\n",
      "Predicted probability: 0.4998\n",
      "Predicted label: 0\n",
      "\n",
      "Sample 162:\n",
      "Input: [ 1.20521508  0.68183878 -0.00391069  0.24978152  0.4400551   0.02158218\n",
      "  1.1079191  -1.21298161 -0.96224707 -0.98789674  0.34763615 -1.16833385\n",
      " -0.53440213 -1.29803556 -1.12411791  0.48760861 -1.59808378  1.6522498\n",
      "  0.329854   -0.54347842]\n",
      "True label: 1\n",
      "Predicted probability: 0.5001\n",
      "Predicted label: 1\n",
      "\n",
      "Sample 198:\n",
      "Input: [ 0.83866839 -0.74988435 -0.42419618 -1.8062992  -0.9594483  -0.37671465\n",
      " -0.44362766  0.76214794  1.87961443 -0.62097673  1.03298737  0.54463913\n",
      " -0.2730066  -0.11793125  1.63678993 -0.26875939 -1.93808174 -0.29957192\n",
      " -0.16660936  0.76050556]\n",
      "True label: 0\n",
      "Predicted probability: 0.4998\n",
      "Predicted label: 0\n",
      "\n"
     ]
    }
   ],
   "source": [
    "# Show inputs, predictions, and truth values for 5 samples\n",
    "\n",
    "sample_indices = np.random.choice(len(X_test), 5, replace=False)\n",
    "for idx in sample_indices:\n",
    "    input_sample = X_test[idx]\n",
    "    true_label = y_test[idx]\n",
    "    pred_prob = best_model.forward(input_sample.reshape(1, -1))[0][0]\n",
    "    pred_label = int(pred_prob > 0.5)\n",
    "    \n",
    "    print(f\"Sample {idx}:\")\n",
    "    print(f\"Input: {input_sample}\")\n",
    "    print(f\"True label: {true_label}\")\n",
    "    print(f\"Predicted probability: {pred_prob:.4f}\")\n",
    "    print(f\"Predicted label: {pred_label}\")\n",
    "    print()"
   ]
  }
 ],
 "metadata": {
  "kernelspec": {
   "display_name": "Python 3",
   "language": "python",
   "name": "python3"
  },
  "language_info": {
   "codemirror_mode": {
    "name": "ipython",
    "version": 3
   },
   "file_extension": ".py",
   "mimetype": "text/x-python",
   "name": "python",
   "nbconvert_exporter": "python",
   "pygments_lexer": "ipython3",
   "version": "3.12.7"
  }
 },
 "nbformat": 4,
 "nbformat_minor": 2
}
