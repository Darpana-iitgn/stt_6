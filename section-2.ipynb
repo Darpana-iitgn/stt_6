{
 "cells": [
  {
   "cell_type": "code",
   "execution_count": 8,
   "metadata": {},
   "outputs": [],
   "source": [
    "# Importing libraries\n",
    "\n",
    "import numpy as np\n",
    "from sklearn.datasets import make_classification\n",
    "from sklearn.model_selection import train_test_split\n",
    "from sklearn.preprocessing import StandardScaler\n",
    "from sklearn.metrics import accuracy_score, f1_score, confusion_matrix\n",
    "import matplotlib.pyplot as plt\n",
    "import seaborn as sns\n",
    "from tensorflow.keras.models import Sequential\n",
    "from tensorflow.keras.layers import Dense, Input\n",
    "from tensorflow.keras.optimizers import Adam"
   ]
  },
  {
   "cell_type": "code",
   "execution_count": 9,
   "metadata": {},
   "outputs": [],
   "source": [
    "# Generate synthetic binary classification data\n",
    "X, y = make_classification(n_samples=1000, n_features=20, n_classes=2, random_state=42)\n",
    "\n",
    "# Split the data\n",
    "X_train, X_test, y_train, y_test = train_test_split(X, y, test_size=0.2, random_state=42)\n",
    "\n",
    "# Standardize the features\n",
    "scaler = StandardScaler()\n",
    "X_train = scaler.fit_transform(X_train)\n",
    "X_test = scaler.transform(X_test)"
   ]
  },
  {
   "cell_type": "code",
   "execution_count": 10,
   "metadata": {},
   "outputs": [],
   "source": [
    "# Define the model \n",
    "\n",
    "def create_model(learning_rate):\n",
    "    model = Sequential([\n",
    "        Input(shape=(20,)),\n",
    "        Dense(16, activation='relu'),\n",
    "        Dense(1, activation='sigmoid')\n",
    "    ])\n",
    "    model.compile(\n",
    "        optimizer=Adam(learning_rate=learning_rate),\n",
    "        loss='binary_crossentropy',\n",
    "        metrics=['accuracy']\n",
    "    )\n",
    "    return model"
   ]
  },
  {
   "cell_type": "code",
   "execution_count": 11,
   "metadata": {},
   "outputs": [
    {
     "name": "stdout",
     "output_type": "stream",
     "text": [
      "\u001b[1m7/7\u001b[0m \u001b[32m━━━━━━━━━━━━━━━━━━━━\u001b[0m\u001b[37m\u001b[0m \u001b[1m0s\u001b[0m 15ms/step\n",
      "\u001b[1m7/7\u001b[0m \u001b[32m━━━━━━━━━━━━━━━━━━━━\u001b[0m\u001b[37m\u001b[0m \u001b[1m0s\u001b[0m 12ms/step\n",
      "WARNING:tensorflow:5 out of the last 15 calls to <function TensorFlowTrainer.make_predict_function.<locals>.one_step_on_data_distributed at 0x0000020CA36400E0> triggered tf.function retracing. Tracing is expensive and the excessive number of tracings could be due to (1) creating @tf.function repeatedly in a loop, (2) passing tensors with different shapes, (3) passing Python objects instead of tensors. For (1), please define your @tf.function outside of the loop. For (2), @tf.function has reduce_retracing=True option that can avoid unnecessary retracing. For (3), please refer to https://www.tensorflow.org/guide/function#controlling_retracing and https://www.tensorflow.org/api_docs/python/tf/function for  more details.\n",
      "\u001b[1m7/7\u001b[0m \u001b[32m━━━━━━━━━━━━━━━━━━━━\u001b[0m\u001b[37m\u001b[0m \u001b[1m0s\u001b[0m 12ms/step\n",
      "WARNING:tensorflow:5 out of the last 15 calls to <function TensorFlowTrainer.make_predict_function.<locals>.one_step_on_data_distributed at 0x0000020CA3643E20> triggered tf.function retracing. Tracing is expensive and the excessive number of tracings could be due to (1) creating @tf.function repeatedly in a loop, (2) passing tensors with different shapes, (3) passing Python objects instead of tensors. For (1), please define your @tf.function outside of the loop. For (2), @tf.function has reduce_retracing=True option that can avoid unnecessary retracing. For (3), please refer to https://www.tensorflow.org/guide/function#controlling_retracing and https://www.tensorflow.org/api_docs/python/tf/function for  more details.\n",
      "\u001b[1m7/7\u001b[0m \u001b[32m━━━━━━━━━━━━━━━━━━━━\u001b[0m\u001b[37m\u001b[0m \u001b[1m0s\u001b[0m 17ms/step\n",
      "\u001b[1m7/7\u001b[0m \u001b[32m━━━━━━━━━━━━━━━━━━━━\u001b[0m\u001b[37m\u001b[0m \u001b[1m0s\u001b[0m 13ms/step\n",
      "\u001b[1m7/7\u001b[0m \u001b[32m━━━━━━━━━━━━━━━━━━━━\u001b[0m\u001b[37m\u001b[0m \u001b[1m0s\u001b[0m 9ms/step \n",
      "\u001b[1m7/7\u001b[0m \u001b[32m━━━━━━━━━━━━━━━━━━━━\u001b[0m\u001b[37m\u001b[0m \u001b[1m0s\u001b[0m 12ms/step\n",
      "\u001b[1m7/7\u001b[0m \u001b[32m━━━━━━━━━━━━━━━━━━━━\u001b[0m\u001b[37m\u001b[0m \u001b[1m0s\u001b[0m 14ms/step\n",
      "\u001b[1m7/7\u001b[0m \u001b[32m━━━━━━━━━━━━━━━━━━━━\u001b[0m\u001b[37m\u001b[0m \u001b[1m0s\u001b[0m 12ms/step\n",
      "\u001b[1m7/7\u001b[0m \u001b[32m━━━━━━━━━━━━━━━━━━━━\u001b[0m\u001b[37m\u001b[0m \u001b[1m0s\u001b[0m 16ms/step\n",
      "\u001b[1m7/7\u001b[0m \u001b[32m━━━━━━━━━━━━━━━━━━━━\u001b[0m\u001b[37m\u001b[0m \u001b[1m0s\u001b[0m 11ms/step\n",
      "\u001b[1m7/7\u001b[0m \u001b[32m━━━━━━━━━━━━━━━━━━━━\u001b[0m\u001b[37m\u001b[0m \u001b[1m0s\u001b[0m 16ms/step\n",
      "Best parameters: {'batch_size': 2, 'learning_rate': 0.001, 'epochs': 5}\n"
     ]
    }
   ],
   "source": [
    "# Hyperparameter search\n",
    "\n",
    "batch_sizes = [2, 4]\n",
    "learning_rates = [1e-3, 1e-5]\n",
    "epochs_list = [1, 3, 5]\n",
    "\n",
    "best_accuracy = 0\n",
    "best_params = {}\n",
    "best_model = None\n",
    "\n",
    "for batch_size in batch_sizes:\n",
    "    for learning_rate in learning_rates:\n",
    "        for epochs in epochs_list:\n",
    "            model = create_model(learning_rate)\n",
    "            model.fit(X_train, y_train, batch_size=batch_size, epochs=epochs, verbose=0)\n",
    "            \n",
    "            y_pred = (model.predict(X_test) > 0.5).astype(int)\n",
    "            accuracy = accuracy_score(y_test, y_pred)\n",
    "            \n",
    "            if accuracy > best_accuracy:\n",
    "                best_accuracy = accuracy\n",
    "                best_params = {'batch_size': batch_size, 'learning_rate': learning_rate, 'epochs': epochs}\n",
    "                best_model = model\n",
    "\n",
    "print(f\"Best parameters: {best_params}\")"
   ]
  },
  {
   "cell_type": "code",
   "execution_count": null,
   "metadata": {},
   "outputs": [
    {
     "name": "stdout",
     "output_type": "stream",
     "text": [
      "\u001b[1m7/7\u001b[0m \u001b[32m━━━━━━━━━━━━━━━━━━━━\u001b[0m\u001b[37m\u001b[0m \u001b[1m0s\u001b[0m 6ms/step \n",
      "Test Accuracy: 0.8650\n",
      "Test F1 Score: 0.8657\n"
     ]
    }
   ],
   "source": [
    "# Evaluate on test set\n",
    "\n",
    "y_pred_proba = best_model.predict(X_test)\n",
    "y_pred = (y_pred_proba > 0.5).astype(int)  \n",
    "accuracy = accuracy_score(y_test, y_pred)\n",
    "f1 = f1_score(y_test, y_pred)\n",
    "\n",
    "print(f\"Test Accuracy: {accuracy:.4f}\")\n",
    "print(f\"Test F1 Score: {f1:.4f}\")"
   ]
  },
  {
   "cell_type": "code",
   "execution_count": 14,
   "metadata": {},
   "outputs": [
    {
     "data": {
      "image/png": "[encoded data removed]",
      "text/plain": [
       "<Figure size 800x600 with 2 Axes>"
      ]
     },
     "metadata": {},
     "output_type": "display_data"
    }
   ],
   "source": [
    "# Plot confusion matrix\n",
    "\n",
    "cm = confusion_matrix(y_test, y_pred)\n",
    "plt.figure(figsize=(8, 6))\n",
    "sns.heatmap(cm, annot=True, fmt='d', cmap='Blues')\n",
    "plt.title('Confusion Matrix')\n",
    "plt.xlabel('Predicted')\n",
    "plt.ylabel('True')\n",
    "plt.show()"
   ]
  },
  {
   "cell_type": "code",
   "execution_count": 16,
   "metadata": {},
   "outputs": [
    {
     "name": "stdout",
     "output_type": "stream",
     "text": [
      "\u001b[1m1/1\u001b[0m \u001b[32m━━━━━━━━━━━━━━━━━━━━\u001b[0m\u001b[37m\u001b[0m \u001b[1m0s\u001b[0m 45ms/step\n",
      "Sample 57:\n",
      "Input: [-1.37136715  0.78275606 -1.91021486  1.12165942  0.8924856  -0.97949234\n",
      "  0.05880021 -1.51543452 -0.1180112  -0.06775473 -0.43114302  1.69837796\n",
      " -1.76384549  0.70130611 -0.15105608  2.62644888 -0.25235526 -0.83105011\n",
      "  0.93678378  0.14259351]\n",
      "True label: 1\n",
      "Predicted probability: 0.0487\n",
      "Predicted label: 0\n",
      "\n",
      "\u001b[1m1/1\u001b[0m \u001b[32m━━━━━━━━━━━━━━━━━━━━\u001b[0m\u001b[37m\u001b[0m \u001b[1m0s\u001b[0m 41ms/step\n",
      "Sample 77:\n",
      "Input: [ 0.21714057 -0.08238585  1.89052823  0.49442354 -0.23973829  0.03587143\n",
      "  0.7717266   0.8182246  -1.51929107  0.98429164 -0.02584305 -0.86712803\n",
      " -1.06421542 -0.46498087  0.09216763 -1.27596925 -0.85275463  0.16699189\n",
      " -0.06124019  0.621796  ]\n",
      "True label: 1\n",
      "Predicted probability: 0.6645\n",
      "Predicted label: 1\n",
      "\n",
      "\u001b[1m1/1\u001b[0m \u001b[32m━━━━━━━━━━━━━━━━━━━━\u001b[0m\u001b[37m\u001b[0m \u001b[1m0s\u001b[0m 53ms/step\n",
      "Sample 102:\n",
      "Input: [ 0.87724562  1.72181027  0.37915178  1.03139851  1.08542665 -1.49679736\n",
      " -1.71088941  0.38232135 -1.32295959 -0.10198283  0.29036251  1.39929096\n",
      "  1.41552919  0.49679583 -1.07857697  0.50825615  0.53807482  2.31945213\n",
      "  1.69507511  0.42672047]\n",
      "True label: 0\n",
      "Predicted probability: 0.0436\n",
      "Predicted label: 0\n",
      "\n",
      "\u001b[1m1/1\u001b[0m \u001b[32m━━━━━━━━━━━━━━━━━━━━\u001b[0m\u001b[37m\u001b[0m \u001b[1m0s\u001b[0m 47ms/step\n",
      "Sample 37:\n",
      "Input: [ 1.02231476  0.51552893 -0.38395019 -0.35353976 -0.64205292 -0.45715072\n",
      " -0.16747398 -0.9696094  -1.28789568  0.27581427 -0.31545078  2.06029001\n",
      " -0.23880744 -0.34052746 -0.31273424 -0.31779828  0.59666618 -1.66389544\n",
      "  0.51252195 -0.11285686]\n",
      "True label: 0\n",
      "Predicted probability: 0.4227\n",
      "Predicted label: 0\n",
      "\n",
      "\u001b[1m1/1\u001b[0m \u001b[32m━━━━━━━━━━━━━━━━━━━━\u001b[0m\u001b[37m\u001b[0m \u001b[1m0s\u001b[0m 48ms/step\n",
      "Sample 42:\n",
      "Input: [-0.71161148 -0.50139881  1.28821316  1.01812047  0.07198078 -0.69112262\n",
      "  0.73509442  0.20884214 -0.74426833  0.32101693  0.04085794 -0.58568253\n",
      " -1.57421924 -0.65001867  1.59277271  0.68340655 -0.88875849 -1.07380985\n",
      "  0.13269984 -1.05139062]\n",
      "True label: 0\n",
      "Predicted probability: 0.1114\n",
      "Predicted label: 0\n",
      "\n"
     ]
    }
   ],
   "source": [
    "# Show inputs, predictions, and truth values for 5 samples\n",
    "\n",
    "sample_indices = np.random.choice(len(X_test), 5, replace=False)\n",
    "for idx in sample_indices:\n",
    "    input_sample = X_test[idx]\n",
    "    true_label = y_test[idx]\n",
    "    pred_prob = best_model.predict(input_sample.reshape(1, -1))[0][0]\n",
    "    pred_label = int(pred_prob > 0.5)\n",
    "    \n",
    "    print(f\"Sample {idx}:\")\n",
    "    print(f\"Input: {input_sample}\")\n",
    "    print(f\"True label: {true_label}\")\n",
    "    print(f\"Predicted probability: {pred_prob:.4f}\")\n",
    "    print(f\"Predicted label: {pred_label}\")\n",
    "    print()"
   ]
  }
 ],
 "metadata": {
  "kernelspec": {
   "display_name": "Python 3",
   "language": "python",
   "name": "python3"
  },
  "language_info": {
   "codemirror_mode": {
    "name": "ipython",
    "version": 3
   },
   "file_extension": ".py",
   "mimetype": "text/x-python",
   "name": "python",
   "nbconvert_exporter": "python",
   "pygments_lexer": "ipython3",
   "version": "3.12.7"
  }
 },
 "nbformat": 4,
 "nbformat_minor": 2
}
