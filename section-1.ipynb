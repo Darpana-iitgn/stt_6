{
 "cells": [
  {
   "cell_type": "code",
   "execution_count": 1,
   "metadata": {},
   "outputs": [
    {
     "name": "stdout",
     "output_type": "stream",
     "text": [
      "Requirement already satisfied: wandb in c:\\users\\darpa\\appdata\\local\\programs\\python\\python312\\lib\\site-packages (0.19.7)\n",
      "Requirement already satisfied: click!=8.0.0,>=7.1 in c:\\users\\darpa\\appdata\\local\\programs\\python\\python312\\lib\\site-packages (from wandb) (8.1.7)\n",
      "Requirement already satisfied: docker-pycreds>=0.4.0 in c:\\users\\darpa\\appdata\\local\\programs\\python\\python312\\lib\\site-packages (from wandb) (0.4.0)\n",
      "Requirement already satisfied: gitpython!=3.1.29,>=1.0.0 in c:\\users\\darpa\\appdata\\local\\programs\\python\\python312\\lib\\site-packages (from wandb) (3.1.43)\n",
      "Requirement already satisfied: platformdirs in c:\\users\\darpa\\appdata\\local\\programs\\python\\python312\\lib\\site-packages (from wandb) (4.2.2)\n",
      "Requirement already satisfied: protobuf!=4.21.0,!=5.28.0,<6,>=3.19.0 in c:\\users\\darpa\\appdata\\local\\programs\\python\\python312\\lib\\site-packages (from wandb) (4.25.5)\n",
      "Requirement already satisfied: psutil>=5.0.0 in c:\\users\\darpa\\appdata\\local\\programs\\python\\python312\\lib\\site-packages (from wandb) (6.0.0)\n",
      "Requirement already satisfied: pydantic<3,>=2.6 in c:\\users\\darpa\\appdata\\local\\programs\\python\\python312\\lib\\site-packages (from wandb) (2.10.6)\n",
      "Requirement already satisfied: pyyaml in c:\\users\\darpa\\appdata\\local\\programs\\python\\python312\\lib\\site-packages (from wandb) (6.0.2)\n",
      "Requirement already satisfied: requests<3,>=2.0.0 in c:\\users\\darpa\\appdata\\local\\programs\\python\\python312\\lib\\site-packages (from wandb) (2.32.3)\n",
      "Requirement already satisfied: sentry-sdk>=2.0.0 in c:\\users\\darpa\\appdata\\local\\programs\\python\\python312\\lib\\site-packages (from wandb) (2.20.0)\n",
      "Requirement already satisfied: setproctitle in c:\\users\\darpa\\appdata\\local\\programs\\python\\python312\\lib\\site-packages (from wandb) (1.3.5)\n",
      "Requirement already satisfied: setuptools in c:\\users\\darpa\\appdata\\local\\programs\\python\\python312\\lib\\site-packages (from wandb) (75.8.0)\n",
      "Requirement already satisfied: colorama in c:\\users\\darpa\\appdata\\local\\programs\\python\\python312\\lib\\site-packages (from click!=8.0.0,>=7.1->wandb) (0.4.6)\n",
      "Requirement already satisfied: six>=1.4.0 in c:\\users\\darpa\\appdata\\local\\programs\\python\\python312\\lib\\site-packages (from docker-pycreds>=0.4.0->wandb) (1.16.0)\n",
      "Requirement already satisfied: gitdb<5,>=4.0.1 in c:\\users\\darpa\\appdata\\local\\programs\\python\\python312\\lib\\site-packages (from gitpython!=3.1.29,>=1.0.0->wandb) (4.0.11)\n",
      "Requirement already satisfied: annotated-types>=0.6.0 in c:\\users\\darpa\\appdata\\local\\programs\\python\\python312\\lib\\site-packages (from pydantic<3,>=2.6->wandb) (0.7.0)\n",
      "Requirement already satisfied: pydantic-core==2.27.2 in c:\\users\\darpa\\appdata\\local\\programs\\python\\python312\\lib\\site-packages (from pydantic<3,>=2.6->wandb) (2.27.2)\n",
      "Requirement already satisfied: typing-extensions>=4.12.2 in c:\\users\\darpa\\appdata\\local\\programs\\python\\python312\\lib\\site-packages (from pydantic<3,>=2.6->wandb) (4.12.2)\n",
      "Requirement already satisfied: charset-normalizer<4,>=2 in c:\\users\\darpa\\appdata\\local\\programs\\python\\python312\\lib\\site-packages (from requests<3,>=2.0.0->wandb) (3.3.2)\n",
      "Requirement already satisfied: idna<4,>=2.5 in c:\\users\\darpa\\appdata\\local\\programs\\python\\python312\\lib\\site-packages (from requests<3,>=2.0.0->wandb) (3.7)\n",
      "Requirement already satisfied: urllib3<3,>=1.21.1 in c:\\users\\darpa\\appdata\\local\\programs\\python\\python312\\lib\\site-packages (from requests<3,>=2.0.0->wandb) (1.26.20)\n",
      "Requirement already satisfied: certifi>=2017.4.17 in c:\\users\\darpa\\appdata\\local\\programs\\python\\python312\\lib\\site-packages (from requests<3,>=2.0.0->wandb) (2024.7.4)\n",
      "Requirement already satisfied: smmap<6,>=3.0.1 in c:\\users\\darpa\\appdata\\local\\programs\\python\\python312\\lib\\site-packages (from gitdb<5,>=4.0.1->gitpython!=3.1.29,>=1.0.0->wandb) (5.0.1)\n"
     ]
    },
    {
     "name": "stderr",
     "output_type": "stream",
     "text": [
      "\n",
      "[notice] A new release of pip is available: 25.0 -> 25.0.1\n",
      "[notice] To update, run: python.exe -m pip install --upgrade pip\n"
     ]
    }
   ],
   "source": [
    "!pip install wandb"
   ]
  },
  {
   "cell_type": "code",
   "execution_count": 2,
   "metadata": {},
   "outputs": [],
   "source": [
    "# Importing required libraries\n",
    "import numpy as np\n",
    "import tensorflow as tf\n",
    "import torch\n",
    "import torch.nn as nn\n",
    "import torch.optim as optim\n",
    "import torch.nn.functional as F\n",
    "import matplotlib.pyplot as plt\n",
    "import seaborn as sns\n",
    "import wandb\n",
    "from wandb.integration.keras import WandbMetricsLogger, WandbModelCheckpoint\n",
    "from sklearn.datasets import load_iris\n",
    "from sklearn.model_selection import train_test_split\n",
    "from sklearn.preprocessing import StandardScaler, OneHotEncoder\n",
    "from sklearn.metrics import accuracy_score, precision_score, recall_score, f1_score, confusion_matrix"
   ]
  },
  {
   "cell_type": "code",
   "execution_count": 3,
   "metadata": {},
   "outputs": [
    {
     "name": "stderr",
     "output_type": "stream",
     "text": [
      "wandb: Using wandb-core as the SDK backend.  Please refer to https://wandb.me/wandb-core for more information.\n",
      "wandb: Currently logged in as: darpana (darpana-indian-institute-of-technology-gandhinagar) to https://api.wandb.ai. Use `wandb login --relogin` to force relogin\n"
     ]
    },
    {
     "data": {
      "text/html": [
       "creating run (0.5s)"
      ],
      "text/plain": [
       "<IPython.core.display.HTML object>"
      ]
     },
     "metadata": {},
     "output_type": "display_data"
    },
    {
     "data": {
      "text/html": [
       "Tracking run with wandb version 0.19.7"
      ],
      "text/plain": [
       "<IPython.core.display.HTML object>"
      ]
     },
     "metadata": {},
     "output_type": "display_data"
    },
    {
     "data": {
      "text/html": [
       "Run data is saved locally in <code>c:\\Users\\darpa\\Downloads\\vs code projects\\stt_6\\wandb\\run-20250224_221251-wzc3pass</code>"
      ],
      "text/plain": [
       "<IPython.core.display.HTML object>"
      ]
     },
     "metadata": {},
     "output_type": "display_data"
    },
    {
     "data": {
      "text/html": [
       "Syncing run <strong><a href='https://wandb.ai/darpana-indian-institute-of-technology-gandhinagar/iris_mlp/runs/wzc3pass' target=\"_blank\">experiment_1_new</a></strong> to <a href='https://wandb.ai/darpana-indian-institute-of-technology-gandhinagar/iris_mlp' target=\"_blank\">Weights & Biases</a> (<a href='https://wandb.me/developer-guide' target=\"_blank\">docs</a>)<br>"
      ],
      "text/plain": [
       "<IPython.core.display.HTML object>"
      ]
     },
     "metadata": {},
     "output_type": "display_data"
    },
    {
     "data": {
      "text/html": [
       " View project at <a href='https://wandb.ai/darpana-indian-institute-of-technology-gandhinagar/iris_mlp' target=\"_blank\">https://wandb.ai/darpana-indian-institute-of-technology-gandhinagar/iris_mlp</a>"
      ],
      "text/plain": [
       "<IPython.core.display.HTML object>"
      ]
     },
     "metadata": {},
     "output_type": "display_data"
    },
    {
     "data": {
      "text/html": [
       " View run at <a href='https://wandb.ai/darpana-indian-institute-of-technology-gandhinagar/iris_mlp/runs/wzc3pass' target=\"_blank\">https://wandb.ai/darpana-indian-institute-of-technology-gandhinagar/iris_mlp/runs/wzc3pass</a>"
      ],
      "text/plain": [
       "<IPython.core.display.HTML object>"
      ]
     },
     "metadata": {},
     "output_type": "display_data"
    }
   ],
   "source": [
    "# Initialize Weights & Biases\n",
    "wandb.init(project=\"iris_mlp\", name=\"experiment_1_new\", config={\n",
    "    \"learning_rate\": 0.001,\n",
    "    \"batch_size\": 32,\n",
    "    \"epochs\": 400,\n",
    "    \"hidden_layer_size\": 16,\n",
    "    \"architecture\": [\n",
    "        {\"layer\": \"Input\", \"units\": 4},\n",
    "        {\"layer\": \"Dense\", \"units\": 16, \"activation\": \"relu\"},\n",
    "        {\"layer\": \"Dense\", \"units\": 3, \"activation\": \"softmax\"}\n",
    "    ]\n",
    "})\n",
    "\n",
    "config = wandb.config"
   ]
  },
  {
   "cell_type": "code",
   "execution_count": 4,
   "metadata": {},
   "outputs": [],
   "source": [
    "# Load the Iris dataset\n",
    "data = load_iris()\n",
    "X = data.data  # Features\n",
    "y = data.target.reshape(-1, 1)  # Labels"
   ]
  },
  {
   "cell_type": "code",
   "execution_count": null,
   "metadata": {},
   "outputs": [],
   "source": [
    "# One Hot Encoding\n",
    "encoder = OneHotEncoder(sparse_output=False)\n",
    "y_one_hot = encoder.fit_transform(y)"
   ]
  },
  {
   "cell_type": "code",
   "execution_count": 6,
   "metadata": {},
   "outputs": [
    {
     "name": "stdout",
     "output_type": "stream",
     "text": [
      "Original dataset shape: (150, 4)\n",
      "Train set shape: (105, 4), (105, 3)\n",
      "Validation set shape: (15, 4), (15, 3)\n",
      "Test set shape: (30, 4), (30, 3)\n"
     ]
    }
   ],
   "source": [
    "# Split dataset into train (70%), validation (10%), and test (20%)\n",
    "X_train, X_temp, y_train, y_temp = train_test_split(X, y_one_hot, test_size=0.3, random_state=42, stratify=y_one_hot)\n",
    "X_val, X_test, y_val, y_test = train_test_split(X_temp, y_temp, test_size=2/3, random_state=42, stratify=y_temp)\n",
    "\n",
    "# Print dataset shapes to confirm percentage split\n",
    "print(f\"Original dataset shape: {X.shape}\")\n",
    "print(f\"Train set shape: {X_train.shape}, {y_train.shape}\")\n",
    "print(f\"Validation set shape: {X_val.shape}, {y_val.shape}\")\n",
    "print(f\"Test set shape: {X_test.shape}, {y_test.shape}\")"
   ]
  },
  {
   "cell_type": "code",
   "execution_count": 7,
   "metadata": {},
   "outputs": [],
   "source": [
    "# Normalize feature values using StandardScaler\n",
    "scaler = StandardScaler()\n",
    "X_train = scaler.fit_transform(X_train)\n",
    "X_val = scaler.transform(X_val)\n",
    "X_test = scaler.transform(X_test)"
   ]
  },
  {
   "cell_type": "code",
   "execution_count": 8,
   "metadata": {},
   "outputs": [],
   "source": [
    "# Convert to PyTorch tensors\n",
    "X_train, y_train = torch.tensor(X_train, dtype=torch.float32), torch.tensor(y_train, dtype=torch.float32)\n",
    "X_val, y_val = torch.tensor(X_val, dtype=torch.float32), torch.tensor(y_val, dtype=torch.float32)\n",
    "X_test, y_test = torch.tensor(X_test, dtype=torch.float32), torch.tensor(y_test, dtype=torch.float32)"
   ]
  },
  {
   "cell_type": "code",
   "execution_count": 9,
   "metadata": {},
   "outputs": [],
   "source": [
    "# Define MLP model\n",
    "class MLP(nn.Module):\n",
    "    def __init__(self, input_size=4, hidden_size=16, output_size=3):\n",
    "        super(MLP, self).__init__()\n",
    "        self.fc1 = nn.Linear(input_size, hidden_size)\n",
    "        self.fc2 = nn.Linear(hidden_size, output_size)\n",
    "\n",
    "    def forward(self, x):\n",
    "        x = F.relu(self.fc1(x))\n",
    "        x = F.softmax(self.fc2(x), dim=1)\n",
    "        return x"
   ]
  },
  {
   "cell_type": "code",
   "execution_count": 10,
   "metadata": {},
   "outputs": [],
   "source": [
    "# Instantiate the model\n",
    "model = MLP()\n",
    "criterion = nn.CrossEntropyLoss()  \n",
    "optimizer = optim.Adam(model.parameters(), lr=config.learning_rate)"
   ]
  },
  {
   "cell_type": "code",
   "execution_count": 11,
   "metadata": {},
   "outputs": [
    {
     "name": "stdout",
     "output_type": "stream",
     "text": [
      "Epoch [20/400], Train Loss: 1.0723, Val Loss: 1.0673\n",
      "Epoch [40/400], Train Loss: 1.0424, Val Loss: 1.0394\n",
      "Epoch [60/400], Train Loss: 1.0085, Val Loss: 1.0079\n",
      "Epoch [80/400], Train Loss: 0.9683, Val Loss: 0.9703\n",
      "Epoch [100/400], Train Loss: 0.9235, Val Loss: 0.9287\n",
      "Epoch [120/400], Train Loss: 0.8787, Val Loss: 0.8885\n",
      "Epoch [140/400], Train Loss: 0.8387, Val Loss: 0.8546\n",
      "Epoch [160/400], Train Loss: 0.8058, Val Loss: 0.8279\n",
      "Epoch [180/400], Train Loss: 0.7793, Val Loss: 0.8075\n",
      "Epoch [200/400], Train Loss: 0.7579, Val Loss: 0.7931\n",
      "Epoch [220/400], Train Loss: 0.7408, Val Loss: 0.7830\n",
      "Epoch [240/400], Train Loss: 0.7271, Val Loss: 0.7751\n",
      "Epoch [260/400], Train Loss: 0.7154, Val Loss: 0.7680\n",
      "Epoch [280/400], Train Loss: 0.7051, Val Loss: 0.7613\n",
      "Epoch [300/400], Train Loss: 0.6956, Val Loss: 0.7546\n",
      "Epoch [320/400], Train Loss: 0.6866, Val Loss: 0.7479\n",
      "Epoch [340/400], Train Loss: 0.6781, Val Loss: 0.7409\n",
      "Epoch [360/400], Train Loss: 0.6698, Val Loss: 0.7337\n",
      "Epoch [380/400], Train Loss: 0.6619, Val Loss: 0.7275\n",
      "Epoch [400/400], Train Loss: 0.6546, Val Loss: 0.7217\n"
     ]
    }
   ],
   "source": [
    "# Training loop\n",
    "train_losses, val_losses = [], []\n",
    "for epoch in range(config.epochs):\n",
    "    model.train()\n",
    "    optimizer.zero_grad()\n",
    "    outputs = model(X_train)\n",
    "    loss = criterion(outputs, y_train)\n",
    "    loss.backward()\n",
    "    optimizer.step()\n",
    "\n",
    "    # Validation loss\n",
    "    model.eval()\n",
    "    with torch.no_grad():\n",
    "        val_outputs = model(X_val)\n",
    "        val_loss = criterion(val_outputs, y_val)\n",
    "\n",
    "    # Store losses\n",
    "    train_losses.append(loss.item())\n",
    "    val_losses.append(val_loss.item())\n",
    "\n",
    "    # Log losses to W&B\n",
    "    wandb.log({\"Train Loss\": loss.item(), \"Validation Loss\": val_loss.item(), \"Epoch\": epoch + 1})\n",
    "\n",
    "    if (epoch + 1) % 20 == 0:\n",
    "        print(f\"Epoch [{epoch+1}/{config.epochs}], Train Loss: {loss.item():.4f}, Val Loss: {val_loss.item():.4f}\")"
   ]
  },
  {
   "cell_type": "code",
   "execution_count": 12,
   "metadata": {},
   "outputs": [],
   "source": [
    "# Evaluate on test set\n",
    "model.eval()\n",
    "with torch.no_grad():\n",
    "    y_pred_probs = model(X_test)\n",
    "    test_loss = criterion(y_pred_probs, y_test)  \n",
    "    y_pred = torch.argmax(y_pred_probs, axis=1)\n",
    "    y_true = torch.argmax(y_test, axis=1)"
   ]
  },
  {
   "cell_type": "code",
   "execution_count": 13,
   "metadata": {},
   "outputs": [
    {
     "name": "stdout",
     "output_type": "stream",
     "text": [
      "Test Loss: 0.6360\n",
      "Test Accuracy: 0.9667\n"
     ]
    },
    {
     "name": "stdout",
     "output_type": "stream",
     "text": [
      "Test Precision: 0.9697\n",
      "Test Recall: 0.9667\n",
      "Test F1 Score: 0.9666\n"
     ]
    }
   ],
   "source": [
    "# Compute performance metrics\n",
    "y_pred, y_true = y_pred.numpy(), y_true.numpy()\n",
    "test_accuracy = accuracy_score(y_true, y_pred)\n",
    "precision = precision_score(y_true, y_pred, average='weighted', zero_division=1)\n",
    "recall = recall_score(y_true, y_pred, average='weighted')\n",
    "f1 = f1_score(y_true, y_pred, average='weighted')\n",
    "conf_matrix = confusion_matrix(y_true, y_pred)\n",
    "\n",
    "# Print evaluation results\n",
    "print(f\"Test Loss: {test_loss:.4f}\")\n",
    "print(f\"Test Accuracy: {test_accuracy:.4f}\")\n",
    "print(f\"Test Precision: {precision:.4f}\")\n",
    "print(f\"Test Recall: {recall:.4f}\")\n",
    "print(f\"Test F1 Score: {f1:.4f}\")"
   ]
  },
  {
   "cell_type": "code",
   "execution_count": 14,
   "metadata": {},
   "outputs": [],
   "source": [
    "# Log final evaluation metrics to Weights & Biases\n",
    "wandb.log({\n",
    "    \"test_loss\": test_loss,\n",
    "    \"test_accuracy\": test_accuracy,\n",
    "    \"precision\": precision,\n",
    "    \"recall\": recall,\n",
    "    \"f1_score\": f1\n",
    "})"
   ]
  },
  {
   "cell_type": "code",
   "execution_count": 15,
   "metadata": {},
   "outputs": [
    {
     "data": {
      "image/png": "[encoded data removed]",
      "text/plain": [
       "<Figure size 600x500 with 2 Axes>"
      ]
     },
     "metadata": {},
     "output_type": "display_data"
    }
   ],
   "source": [
    "# Plot confusion matrix\n",
    "plt.figure(figsize=(6, 5))\n",
    "sns.heatmap(conf_matrix, annot=True, cmap='Blues', fmt='d', xticklabels=data.target_names, yticklabels=data.target_names)\n",
    "plt.xlabel('Predicted Labels')\n",
    "plt.ylabel('True Labels')\n",
    "plt.title('Confusion Matrix')\n",
    "wandb.log({\"confusion_matrix\": wandb.Image(plt)})\n",
    "plt.show()"
   ]
  },
  {
   "cell_type": "code",
   "execution_count": 16,
   "metadata": {},
   "outputs": [
    {
     "data": {
      "image/png": "[encoded data removed]",
      "text/plain": [
       "<Figure size 800x500 with 1 Axes>"
      ]
     },
     "metadata": {},
     "output_type": "display_data"
    }
   ],
   "source": [
    "# Plot Training and Validation Loss\n",
    "plt.figure(figsize=(8, 5))\n",
    "plt.plot(train_losses, label='Training Loss')  \n",
    "plt.plot(val_losses, label='Validation Loss')  \n",
    "plt.xlabel('Epochs')\n",
    "plt.ylabel('Loss')\n",
    "plt.legend()\n",
    "plt.title('Training & Validation Loss')\n",
    "\n",
    "# Log loss curve to Weights & Biases (W&B)\n",
    "wandb.log({\"loss_curves\": wandb.Image(plt)})\n",
    "\n",
    "plt.show()"
   ]
  },
  {
   "cell_type": "code",
   "execution_count": 17,
   "metadata": {},
   "outputs": [
    {
     "data": {
      "text/html": [],
      "text/plain": [
       "<IPython.core.display.HTML object>"
      ]
     },
     "metadata": {},
     "output_type": "display_data"
    },
    {
     "data": {
      "text/html": [
       "<br>    <style><br>        .wandb-row {<br>            display: flex;<br>            flex-direction: row;<br>            flex-wrap: wrap;<br>            justify-content: flex-start;<br>            width: 100%;<br>        }<br>        .wandb-col {<br>            display: flex;<br>            flex-direction: column;<br>            flex-basis: 100%;<br>            flex: 1;<br>            padding: 10px;<br>        }<br>    </style><br><div class=\"wandb-row\"><div class=\"wandb-col\"><h3>Run history:</h3><br/><table class=\"wandb\"><tr><td>Epoch</td><td>▁▁▁▂▂▂▃▃▃▃▄▄▄▄▄▄▅▅▅▅▅▅▆▆▆▆▆▆▆▆▇▇▇▇▇▇▇▇██</td></tr><tr><td>Train Loss</td><td>█████▇▇▇▆▆▅▅▅▄▄▃▃▃▃▃▂▂▂▂▂▂▂▂▂▂▂▁▁▁▁▁▁▁▁▁</td></tr><tr><td>Validation Loss</td><td>███▇▇▇▇▇▆▆▅▅▅▄▄▃▃▃▃▃▂▂▂▂▂▂▂▂▂▂▂▂▂▂▂▁▁▁▁▁</td></tr><tr><td>f1_score</td><td>▁</td></tr><tr><td>precision</td><td>▁</td></tr><tr><td>recall</td><td>▁</td></tr><tr><td>test_accuracy</td><td>▁</td></tr><tr><td>test_loss</td><td>▁</td></tr></table><br/></div><div class=\"wandb-col\"><h3>Run summary:</h3><br/><table class=\"wandb\"><tr><td>Epoch</td><td>400</td></tr><tr><td>Train Loss</td><td>0.65459</td></tr><tr><td>Validation Loss</td><td>0.72171</td></tr><tr><td>f1_score</td><td>0.96658</td></tr><tr><td>precision</td><td>0.9697</td></tr><tr><td>recall</td><td>0.96667</td></tr><tr><td>test_accuracy</td><td>0.96667</td></tr><tr><td>test_loss</td><td>0.63602</td></tr></table><br/></div></div>"
      ],
      "text/plain": [
       "<IPython.core.display.HTML object>"
      ]
     },
     "metadata": {},
     "output_type": "display_data"
    },
    {
     "data": {
      "text/html": [
       " View run <strong style=\"color:#cdcd00\">experiment_1_new</strong> at: <a href='https://wandb.ai/darpana-indian-institute-of-technology-gandhinagar/iris_mlp/runs/wzc3pass' target=\"_blank\">https://wandb.ai/darpana-indian-institute-of-technology-gandhinagar/iris_mlp/runs/wzc3pass</a><br> View project at: <a href='https://wandb.ai/darpana-indian-institute-of-technology-gandhinagar/iris_mlp' target=\"_blank\">https://wandb.ai/darpana-indian-institute-of-technology-gandhinagar/iris_mlp</a><br>Synced 5 W&B file(s), 2 media file(s), 0 artifact file(s) and 0 other file(s)"
      ],
      "text/plain": [
       "<IPython.core.display.HTML object>"
      ]
     },
     "metadata": {},
     "output_type": "display_data"
    },
    {
     "data": {
      "text/html": [
       "Find logs at: <code>.\\wandb\\run-20250224_221251-wzc3pass\\logs</code>"
      ],
      "text/plain": [
       "<IPython.core.display.HTML object>"
      ]
     },
     "metadata": {},
     "output_type": "display_data"
    }
   ],
   "source": [
    "# Finish W&B run\n",
    "wandb.finish()"
   ]
  }
 ],
 "metadata": {
  "kernelspec": {
   "display_name": "Python 3",
   "language": "python",
   "name": "python3"
  },
  "language_info": {
   "codemirror_mode": {
    "name": "ipython",
    "version": 3
   },
   "file_extension": ".py",
   "mimetype": "text/x-python",
   "name": "python",
   "nbconvert_exporter": "python",
   "pygments_lexer": "ipython3",
   "version": "3.12.7"
  }
 },
 "nbformat": 4,
 "nbformat_minor": 2
}
