{
 "cells": [
  {
   "cell_type": "code",
   "execution_count": 11,
   "metadata": {},
   "outputs": [],
   "source": [
    "# Importing required libraries\n",
    "\n",
    "import numpy as np\n",
    "import tensorflow as tf\n",
    "import matplotlib.pyplot as plt\n",
    "import seaborn as sns\n",
    "from sklearn.datasets import load_iris\n",
    "from sklearn.model_selection import train_test_split\n",
    "from sklearn.preprocessing import StandardScaler, OneHotEncoder\n",
    "from sklearn.metrics import accuracy_score, precision_score, recall_score, f1_score, confusion_matrix"
   ]
  },
  {
   "cell_type": "code",
   "execution_count": 12,
   "metadata": {},
   "outputs": [],
   "source": [
    "# Load the Iris dataset\n",
    "\n",
    "data = load_iris()\n",
    "X = data.data  # Features\n",
    "y = data.target.reshape(-1, 1)  # Labels"
   ]
  },
  {
   "cell_type": "code",
   "execution_count": 13,
   "metadata": {},
   "outputs": [],
   "source": [
    "# One-hot encode labels\n",
    "\n",
    "encoder = OneHotEncoder(sparse_output=False)\n",
    "y_one_hot = encoder.fit_transform(y)"
   ]
  },
  {
   "cell_type": "code",
   "execution_count": 14,
   "metadata": {},
   "outputs": [],
   "source": [
    "# Split dataset into train (70%), validation (10%), and test (20%)\n",
    "\n",
    "X_train, X_temp, y_train, y_temp = train_test_split(X, y_one_hot, test_size=0.3, random_state=42)\n",
    "X_val, X_test, y_val, y_test = train_test_split(X_temp, y_temp, test_size=2/3, random_state=42)"
   ]
  },
  {
   "cell_type": "code",
   "execution_count": 15,
   "metadata": {},
   "outputs": [],
   "source": [
    "# Normalize feature values to [0,1]\n",
    "\n",
    "scaler = StandardScaler()\n",
    "X_train = scaler.fit_transform(X_train)\n",
    "X_val = scaler.transform(X_val)\n",
    "X_test = scaler.transform(X_test)"
   ]
  },
  {
   "cell_type": "code",
   "execution_count": 16,
   "metadata": {},
   "outputs": [],
   "source": [
    "# Define MLP model\n",
    "\n",
    "model = tf.keras.Sequential([\n",
    "    tf.keras.layers.Input(shape=(4,)),\n",
    "    tf.keras.layers.Dense(16, activation='relu'),\n",
    "    tf.keras.layers.Dense(3, activation='softmax')\n",
    "])"
   ]
  },
  {
   "cell_type": "code",
   "execution_count": 17,
   "metadata": {},
   "outputs": [],
   "source": [
    "# Compile model\n",
    "\n",
    "model.compile(\n",
    "    optimizer=tf.keras.optimizers.Adam(learning_rate=0.001),\n",
    "    loss='categorical_crossentropy',\n",
    "    metrics=['accuracy']\n",
    ")"
   ]
  },
  {
   "cell_type": "code",
   "execution_count": 18,
   "metadata": {},
   "outputs": [
    {
     "name": "stdout",
     "output_type": "stream",
     "text": [
      "Epoch 1/50\n",
      "4/4 ━━━━━━━━━━━━━━━━━━━━ 2s 960ms/step - accuracy: 0.3438 - loss: 1.38 ━━━━━━━━━━━━━━━━━━━━ 1s 92ms/step - accuracy: 0.4450 - loss: 1.2717 - val_accuracy: 0.5333 - val_loss: 1.2187\n",
      "Epoch 2/50\n",
      "4/4 ━━━━━━━━━━━━━━━━━━━━ 0s 54ms/step - accuracy: 0.6250 - loss: 1.177 ━━━━━━━━━━━━━━━━━━━━ 0s 24ms/step - accuracy: 0.5623 - loss: 1.1839 - val_accuracy: 0.5333 - val_loss: 1.1812\n",
      "Epoch 3/50\n",
      "4/4 ━━━━━━━━━━━━━━━━━━━━ 0s 30ms/step - accuracy: 0.5625 - loss: 1.257 ━━━━━━━━━━━━━━━━━━━━ 0s 30ms/step - accuracy: 0.5716 - loss: 1.1915 - val_accuracy: 0.5333 - val_loss: 1.1455\n",
      "Epoch 4/50\n",
      "4/4 ━━━━━━━━━━━━━━━━━━━━ 0s 37ms/step - accuracy: 0.6250 - loss: 1.155 ━━━━━━━━━━━━━━━━━━━━ 0s 34ms/step - accuracy: 0.6056 - loss: 1.1376 - val_accuracy: 0.5333 - val_loss: 1.1111\n",
      "Epoch 5/50\n",
      "4/4 ━━━━━━━━━━━━━━━━━━━━ 0s 32ms/step - accuracy: 0.5625 - loss: 1.097 ━━━━━━━━━━━━━━━━━━━━ 0s 31ms/step - accuracy: 0.5907 - loss: 1.1061 - val_accuracy: 0.5333 - val_loss: 1.0782\n",
      "Epoch 6/50\n",
      "4/4 ━━━━━━━━━━━━━━━━━━━━ 0s 32ms/step - accuracy: 0.4688 - loss: 1.148 ━━━━━━━━━━━━━━━━━━━━ 0s 23ms/step - accuracy: 0.5865 - loss: 1.0833 - val_accuracy: 0.5333 - val_loss: 1.0477\n",
      "Epoch 7/50\n",
      "4/4 ━━━━━━━━━━━━━━━━━━━━ 0s 23ms/step - accuracy: 0.5625 - loss: 1.040 ━━━━━━━━━━━━━━━━━━━━ 0s 32ms/step - accuracy: 0.5855 - loss: 1.0547 - val_accuracy: 0.5333 - val_loss: 1.0182\n",
      "Epoch 8/50\n",
      "4/4 ━━━━━━━━━━━━━━━━━━━━ 0s 28ms/step - accuracy: 0.7188 - loss: 0.941 ━━━━━━━━━━━━━━━━━━━━ 0s 23ms/step - accuracy: 0.6251 - loss: 1.0144 - val_accuracy: 0.5333 - val_loss: 0.9902\n",
      "Epoch 9/50\n",
      "4/4 ━━━━━━━━━━━━━━━━━━━━ 0s 34ms/step - accuracy: 0.6250 - loss: 1.031 ━━━━━━━━━━━━━━━━━━━━ 0s 27ms/step - accuracy: 0.6115 - loss: 1.0191 - val_accuracy: 0.5333 - val_loss: 0.9642\n",
      "Epoch 10/50\n",
      "4/4 ━━━━━━━━━━━━━━━━━━━━ 0s 32ms/step - accuracy: 0.7500 - loss: 0.909 ━━━━━━━━━━━━━━━━━━━━ 0s 23ms/step - accuracy: 0.6532 - loss: 0.9618 - val_accuracy: 0.5333 - val_loss: 0.9393\n",
      "Epoch 11/50\n",
      "4/4 ━━━━━━━━━━━━━━━━━━━━ 0s 29ms/step - accuracy: 0.5312 - loss: 1.037 ━━━━━━━━━━━━━━━━━━━━ 0s 23ms/step - accuracy: 0.5876 - loss: 0.9822 - val_accuracy: 0.5333 - val_loss: 0.9154\n",
      "Epoch 12/50\n",
      "4/4 ━━━━━━━━━━━━━━━━━━━━ 0s 29ms/step - accuracy: 0.5938 - loss: 1.015 ━━━━━━━━━━━━━━━━━━━━ 0s 21ms/step - accuracy: 0.6084 - loss: 0.9678 - val_accuracy: 0.5333 - val_loss: 0.8915\n",
      "Epoch 13/50\n",
      "4/4 ━━━━━━━━━━━━━━━━━━━━ 0s 26ms/step - accuracy: 0.5625 - loss: 1.003 ━━━━━━━━━━━━━━━━━━━━ 0s 26ms/step - accuracy: 0.5949 - loss: 0.9541 - val_accuracy: 0.5333 - val_loss: 0.8690\n",
      "Epoch 14/50\n",
      "4/4 ━━━━━━━━━━━━━━━━━━━━ 0s 32ms/step - accuracy: 0.4688 - loss: 0.989 ━━━━━━━━━━━━━━━━━━━━ 0s 25ms/step - accuracy: 0.5699 - loss: 0.9325 - val_accuracy: 0.5333 - val_loss: 0.8485\n",
      "Epoch 15/50\n",
      "4/4 ━━━━━━━━━━━━━━━━━━━━ 0s 36ms/step - accuracy: 0.6250 - loss: 0.890 ━━━━━━━━━━━━━━━━━━━━ 0s 26ms/step - accuracy: 0.6268 - loss: 0.8839 - val_accuracy: 0.5333 - val_loss: 0.8292\n",
      "Epoch 16/50\n",
      "4/4 ━━━━━━━━━━━━━━━━━━━━ 0s 24ms/step - accuracy: 0.5938 - loss: 0.889 ━━━━━━━━━━━━━━━━━━━━ 0s 26ms/step - accuracy: 0.6028 - loss: 0.8855 - val_accuracy: 0.5333 - val_loss: 0.8107\n",
      "Epoch 17/50\n",
      "4/4 ━━━━━━━━━━━━━━━━━━━━ 0s 30ms/step - accuracy: 0.7188 - loss: 0.856 ━━━━━━━━━━━━━━━━━━━━ 0s 26ms/step - accuracy: 0.6414 - loss: 0.8678 - val_accuracy: 0.5333 - val_loss: 0.7940\n",
      "Epoch 18/50\n",
      "4/4 ━━━━━━━━━━━━━━━━━━━━ 0s 28ms/step - accuracy: 0.7500 - loss: 0.741 ━━━━━━━━━━━━━━━━━━━━ 0s 30ms/step - accuracy: 0.6521 - loss: 0.8191 - val_accuracy: 0.5333 - val_loss: 0.7774\n",
      "Epoch 19/50\n",
      "4/4 ━━━━━━━━━━━━━━━━━━━━ 0s 22ms/step - accuracy: 0.5312 - loss: 0.956 ━━━━━━━━━━━━━━━━━━━━ 0s 29ms/step - accuracy: 0.5740 - loss: 0.8787 - val_accuracy: 0.5333 - val_loss: 0.7624\n",
      "Epoch 20/50\n",
      "4/4 ━━━━━━━━━━━━━━━━━━━━ 0s 30ms/step - accuracy: 0.6562 - loss: 0.774 ━━━━━━━━━━━━━━━━━━━━ 0s 29ms/step - accuracy: 0.6365 - loss: 0.7983 - val_accuracy: 0.5333 - val_loss: 0.7484\n",
      "Epoch 21/50\n",
      "4/4 ━━━━━━━━━━━━━━━━━━━━ 0s 24ms/step - accuracy: 0.6250 - loss: 0.742 ━━━━━━━━━━━━━━━━━━━━ 0s 30ms/step - accuracy: 0.6226 - loss: 0.7863 - val_accuracy: 0.6000 - val_loss: 0.7347\n",
      "Epoch 22/50\n",
      "4/4 ━━━━━━━━━━━━━━━━━━━━ 0s 37ms/step - accuracy: 0.6562 - loss: 0.736 ━━━━━━━━━━━━━━━━━━━━ 0s 29ms/step - accuracy: 0.6400 - loss: 0.7696 - val_accuracy: 0.6000 - val_loss: 0.7218\n",
      "Epoch 23/50\n",
      "4/4 ━━━━━━━━━━━━━━━━━━━━ 0s 28ms/step - accuracy: 0.6875 - loss: 0.793 ━━━━━━━━━━━━━━━━━━━━ 0s 33ms/step - accuracy: 0.6493 - loss: 0.7917 - val_accuracy: 0.6000 - val_loss: 0.7098\n",
      "Epoch 24/50\n",
      "4/4 ━━━━━━━━━━━━━━━━━━━━ 0s 29ms/step - accuracy: 0.5625 - loss: 0.760 ━━━━━━━━━━━━━━━━━━━━ 0s 24ms/step - accuracy: 0.6261 - loss: 0.7714 - val_accuracy: 0.6667 - val_loss: 0.6975\n",
      "Epoch 25/50\n",
      "4/4 ━━━━━━━━━━━━━━━━━━━━ 0s 30ms/step - accuracy: 0.5312 - loss: 0.843 ━━━━━━━━━━━━━━━━━━━━ 0s 29ms/step - accuracy: 0.6292 - loss: 0.7863 - val_accuracy: 0.6667 - val_loss: 0.6860\n",
      "Epoch 26/50\n",
      "4/4 ━━━━━━━━━━━━━━━━━━━━ 0s 28ms/step - accuracy: 0.6875 - loss: 0.697 ━━━━━━━━━━━━━━━━━━━━ 0s 24ms/step - accuracy: 0.6674 - loss: 0.7498 - val_accuracy: 0.6667 - val_loss: 0.6754\n",
      "Epoch 27/50\n",
      "4/4 ━━━━━━━━━━━━━━━━━━━━ 0s 28ms/step - accuracy: 0.7188 - loss: 0.672 ━━━━━━━━━━━━━━━━━━━━ 0s 26ms/step - accuracy: 0.6871 - loss: 0.7253 - val_accuracy: 0.6667 - val_loss: 0.6654\n",
      "Epoch 28/50\n",
      "4/4 ━━━━━━━━━━━━━━━━━━━━ 0s 21ms/step - accuracy: 0.7500 - loss: 0.648 ━━━━━━━━━━━━━━━━━━━━ 0s 28ms/step - accuracy: 0.7211 - loss: 0.7217 - val_accuracy: 0.6667 - val_loss: 0.6558\n",
      "Epoch 29/50\n",
      "4/4 ━━━━━━━━━━━━━━━━━━━━ 0s 52ms/step - accuracy: 0.7812 - loss: 0.748 ━━━━━━━━━━━━━━━━━━━━ 0s 25ms/step - accuracy: 0.7409 - loss: 0.7231 - val_accuracy: 0.6667 - val_loss: 0.6470\n",
      "Epoch 30/50\n",
      "4/4 ━━━━━━━━━━━━━━━━━━━━ 0s 58ms/step - accuracy: 0.7188 - loss: 0.763 ━━━━━━━━━━━━━━━━━━━━ 0s 32ms/step - accuracy: 0.7256 - loss: 0.7382 - val_accuracy: 0.6667 - val_loss: 0.6384\n",
      "Epoch 31/50\n",
      "4/4 ━━━━━━━━━━━━━━━━━━━━ 0s 30ms/step - accuracy: 0.6562 - loss: 0.778 ━━━━━━━━━━━━━━━━━━━━ 0s 26ms/step - accuracy: 0.7169 - loss: 0.7329 - val_accuracy: 0.6667 - val_loss: 0.6294\n",
      "Epoch 32/50\n",
      "4/4 ━━━━━━━━━━━━━━━━━━━━ 0s 26ms/step - accuracy: 0.6250 - loss: 0.818 ━━━━━━━━━━━━━━━━━━━━ 0s 25ms/step - accuracy: 0.6954 - loss: 0.7326 - val_accuracy: 0.6667 - val_loss: 0.6207\n",
      "Epoch 33/50\n",
      "4/4 ━━━━━━━━━━━━━━━━━━━━ 0s 31ms/step - accuracy: 0.6875 - loss: 0.622 ━━━━━━━━━━━━━━━━━━━━ 0s 23ms/step - accuracy: 0.7201 - loss: 0.6923 - val_accuracy: 0.6667 - val_loss: 0.6123\n",
      "Epoch 34/50\n",
      "4/4 ━━━━━━━━━━━━━━━━━━━━ 0s 28ms/step - accuracy: 0.8125 - loss: 0.626 ━━━━━━━━━━━━━━━━━━━━ 0s 25ms/step - accuracy: 0.7676 - loss: 0.6741 - val_accuracy: 0.6667 - val_loss: 0.6046\n",
      "Epoch 35/50\n",
      "4/4 ━━━━━━━━━━━━━━━━━━━━ 0s 21ms/step - accuracy: 0.7812 - loss: 0.644 ━━━━━━━━━━━━━━━━━━━━ 0s 25ms/step - accuracy: 0.7652 - loss: 0.6690 - val_accuracy: 0.7333 - val_loss: 0.5973\n",
      "Epoch 36/50\n",
      "4/4 ━━━━━━━━━━━━━━━━━━━━ 0s 28ms/step - accuracy: 0.6875 - loss: 0.756 ━━━━━━━━━━━━━━━━━━━━ 0s 23ms/step - accuracy: 0.7402 - loss: 0.6867 - val_accuracy: 0.7333 - val_loss: 0.5900\n",
      "Epoch 37/50\n",
      "4/4 ━━━━━━━━━━━━━━━━━━━━ 0s 27ms/step - accuracy: 0.6875 - loss: 0.700 ━━━━━━━━━━━━━━━━━━━━ 0s 26ms/step - accuracy: 0.7402 - loss: 0.6690 - val_accuracy: 0.7333 - val_loss: 0.5830\n",
      "Epoch 38/50\n",
      "4/4 ━━━━━━━━━━━━━━━━━━━━ 0s 49ms/step - accuracy: 0.8125 - loss: 0.581 ━━━━━━━━━━━━━━━━━━━━ 0s 26ms/step - accuracy: 0.7808 - loss: 0.6217 - val_accuracy: 0.7333 - val_loss: 0.5762\n",
      "Epoch 39/50\n",
      "4/4 ━━━━━━━━━━━━━━━━━━━━ 0s 29ms/step - accuracy: 0.7500 - loss: 0.671 ━━━━━━━━━━━━━━━━━━━━ 0s 30ms/step - accuracy: 0.7732 - loss: 0.6464 - val_accuracy: 0.7333 - val_loss: 0.5700\n",
      "Epoch 40/50\n",
      "4/4 ━━━━━━━━━━━━━━━━━━━━ 0s 28ms/step - accuracy: 0.8438 - loss: 0.619 ━━━━━━━━━━━━━━━━━━━━ 0s 28ms/step - accuracy: 0.7926 - loss: 0.6406 - val_accuracy: 0.7333 - val_loss: 0.5632\n",
      "Epoch 41/50\n",
      "4/4 ━━━━━━━━━━━━━━━━━━━━ 0s 35ms/step - accuracy: 0.7500 - loss: 0.733 ━━━━━━━━━━━━━━━━━━━━ 0s 40ms/step - accuracy: 0.7686 - loss: 0.6637 - val_accuracy: 0.7333 - val_loss: 0.5563\n",
      "Epoch 42/50\n",
      "4/4 ━━━━━━━━━━━━━━━━━━━━ 0s 50ms/step - accuracy: 0.8125 - loss: 0.562 ━━━━━━━━━━━━━━━━━━━━ 0s 33ms/step - accuracy: 0.7943 - loss: 0.6162 - val_accuracy: 0.7333 - val_loss: 0.5500\n",
      "Epoch 43/50\n",
      "4/4 ━━━━━━━━━━━━━━━━━━━━ 0s 36ms/step - accuracy: 0.9062 - loss: 0.597 ━━━━━━━━━━━━━━━━━━━━ 0s 34ms/step - accuracy: 0.8266 - loss: 0.6014 - val_accuracy: 0.7333 - val_loss: 0.5436\n",
      "Epoch 44/50\n",
      "4/4 ━━━━━━━━━━━━━━━━━━━━ 0s 74ms/step - accuracy: 0.7500 - loss: 0.549 ━━━━━━━━━━━━━━━━━━━━ 0s 31ms/step - accuracy: 0.7887 - loss: 0.5973 - val_accuracy: 0.7333 - val_loss: 0.5373\n",
      "Epoch 45/50\n",
      "4/4 ━━━━━━━━━━━━━━━━━━━━ 0s 28ms/step - accuracy: 0.8438 - loss: 0.599 ━━━━━━━━━━━━━━━━━━━━ 0s 28ms/step - accuracy: 0.8085 - loss: 0.6111 - val_accuracy: 0.7333 - val_loss: 0.5317\n",
      "Epoch 46/50\n",
      "4/4 ━━━━━━━━━━━━━━━━━━━━ 0s 42ms/step - accuracy: 0.8438 - loss: 0.529 ━━━━━━━━━━━━━━━━━━━━ 0s 39ms/step - accuracy: 0.8179 - loss: 0.5776 - val_accuracy: 0.8000 - val_loss: 0.5259\n",
      "Epoch 47/50\n",
      "4/4 ━━━━━━━━━━━━━━━━━━━━ 0s 50ms/step - accuracy: 0.8750 - loss: 0.526 ━━━━━━━━━━━━━━━━━━━━ 0s 30ms/step - accuracy: 0.8120 - loss: 0.5851 - val_accuracy: 0.8000 - val_loss: 0.5197\n",
      "Epoch 48/50\n",
      "4/4 ━━━━━━━━━━━━━━━━━━━━ 0s 33ms/step - accuracy: 0.7812 - loss: 0.621 ━━━━━━━━━━━━━━━━━━━━ 0s 30ms/step - accuracy: 0.7901 - loss: 0.5899 - val_accuracy: 0.8000 - val_loss: 0.5135\n",
      "Epoch 49/50\n",
      "4/4 ━━━━━━━━━━━━━━━━━━━━ 0s 38ms/step - accuracy: 0.7812 - loss: 0.599 ━━━━━━━━━━━━━━━━━━━━ 0s 23ms/step - accuracy: 0.7808 - loss: 0.5846 - val_accuracy: 0.8000 - val_loss: 0.5072\n",
      "Epoch 50/50\n",
      "4/4 ━━━━━━━━━━━━━━━━━━━━ 0s 20ms/step - accuracy: 0.7188 - loss: 0.611 ━━━━━━━━━━━━━━━━━━━━ 0s 26ms/step - accuracy: 0.7797 - loss: 0.5792 - val_accuracy: 0.8000 - val_loss: 0.5011\n"
     ]
    }
   ],
   "source": [
    "# Train model and store history\n",
    "\n",
    "history = model.fit(\n",
    "    X_train, y_train,\n",
    "    validation_data=(X_val, y_val),\n",
    "    epochs=50,\n",
    "    batch_size=32,\n",
    "    verbose=1\n",
    ")"
   ]
  },
  {
   "cell_type": "code",
   "execution_count": 19,
   "metadata": {},
   "outputs": [
    {
     "name": "stdout",
     "output_type": "stream",
     "text": [
      "1/1 ━━━━━━━━━━━━━━━━━━━━ 0s 39ms/ste ━━━━━━━━━━━━━━━━━━━━ 0s 59ms/step\n"
     ]
    }
   ],
   "source": [
    "# Evaluate on test data\n",
    "\n",
    "y_pred_probs = model.predict(X_test)\n",
    "y_pred = np.argmax(y_pred_probs, axis=1)\n",
    "y_true = np.argmax(y_test, axis=1)"
   ]
  },
  {
   "cell_type": "code",
   "execution_count": 20,
   "metadata": {},
   "outputs": [
    {
     "name": "stdout",
     "output_type": "stream",
     "text": [
      "Test Accuracy: 0.7667\n",
      "Test Precision: 0.7333\n",
      "Test Recall: 0.7359\n",
      "Test F1 Score: 0.7333\n"
     ]
    }
   ],
   "source": [
    "# Compute metrics\n",
    "\n",
    "accuracy = accuracy_score(y_true, y_pred)\n",
    "precision = precision_score(y_true, y_pred, average='macro')\n",
    "recall = recall_score(y_true, y_pred, average='macro')\n",
    "f1 = f1_score(y_true, y_pred, average='macro')\n",
    "conf_matrix = confusion_matrix(y_true, y_pred)\n",
    "\n",
    "# Print metrics\n",
    "\n",
    "print(f\"Test Accuracy: {accuracy:.4f}\")\n",
    "print(f\"Test Precision: {precision:.4f}\")\n",
    "print(f\"Test Recall: {recall:.4f}\")\n",
    "print(f\"Test F1 Score: {f1:.4f}\")"
   ]
  },
  {
   "cell_type": "code",
   "execution_count": 21,
   "metadata": {},
   "outputs": [
    {
     "data": {
      "image/png": "[encoded data removed]",
      "text/plain": [
       "<Figure size 800x500 with 1 Axes>"
      ]
     },
     "metadata": {},
     "output_type": "display_data"
    }
   ],
   "source": [
    "# Plot training & validation loss\n",
    "\n",
    "plt.figure(figsize=(8, 5))\n",
    "plt.plot(history.history['loss'], label='Training Loss')\n",
    "plt.plot(history.history['val_loss'], label='Validation Loss')\n",
    "plt.xlabel('Epochs')\n",
    "plt.ylabel('Loss')\n",
    "plt.legend()\n",
    "plt.title('Training & Validation Loss')\n",
    "plt.show()"
   ]
  },
  {
   "cell_type": "code",
   "execution_count": 22,
   "metadata": {},
   "outputs": [
    {
     "data": {
      "image/png": "[encoded data removed]",
      "text/plain": [
       "<Figure size 600x500 with 2 Axes>"
      ]
     },
     "metadata": {},
     "output_type": "display_data"
    }
   ],
   "source": [
    "# Plot confusion matrix\n",
    "\n",
    "plt.figure(figsize=(6, 5))\n",
    "sns.heatmap(conf_matrix, annot=True, cmap='Blues', fmt='d', xticklabels=data.target_names, yticklabels=data.target_names)\n",
    "plt.xlabel('Predicted Labels')\n",
    "plt.ylabel('True Labels')\n",
    "plt.title('Confusion Matrix')\n",
    "plt.show()"
   ]
  },
  {
   "cell_type": "code",
   "execution_count": 23,
   "metadata": {},
   "outputs": [
    {
     "name": "stdout",
     "output_type": "stream",
     "text": [
      "Requirement already satisfied: wandb in c:\\users\\darpa\\appdata\\local\\programs\\python\\python312\\lib\\site-packages (0.19.7)"
     ]
    },
    {
     "name": "stderr",
     "output_type": "stream",
     "text": [
      "\n"
     ]
    },
    {
     "name": "stdout",
     "output_type": "stream",
     "text": [
      "\n"
     ]
    },
    {
     "name": "stderr",
     "output_type": "stream",
     "text": [
      "[notice] A new release of pip is available: 25.0 -> 25.0.1\n"
     ]
    },
    {
     "name": "stdout",
     "output_type": "stream",
     "text": [
      "Requirement already satisfied: click!=8.0.0,>=7.1 in c:\\users\\darpa\\appdata\\local\\programs\\python\\python312\\lib\\site-packages (from wandb) (8.1.7)"
     ]
    },
    {
     "name": "stderr",
     "output_type": "stream",
     "text": [
      "[notice] To update, run: python.exe -m pip install --upgrade pip"
     ]
    }
   ],
   "source": [
    "!pip install wandb"
   ]
  },
  {
   "cell_type": "code",
   "execution_count": 31,
   "metadata": {},
   "outputs": [],
   "source": [
    "import wandb\n",
    "from wandb.integration.keras import WandbCallback"
   ]
  },
  {
   "cell_type": "code",
   "execution_count": 32,
   "metadata": {},
   "outputs": [
    {
     "data": {
      "text/html": [
       "<button onClick=\"this.nextSibling.style.display='block';this.style.display='none';\">Display W&B run</button><iframe src='https://wandb.ai/darpana-indian-institute-of-technology-gandhinagar/iris_mlp/runs/rkdy75yc?jupyter=true' style='border:none;width:100%;height:420px;display:none;'></iframe>"
      ],
      "text/plain": [
       "<wandb.sdk.wandb_run.Run at 0x2254b35dee0>"
      ]
     },
     "execution_count": 32,
     "metadata": {},
     "output_type": "execute_result"
    }
   ],
   "source": [
    "from tensorflow.keras.models import Sequential\n",
    "from tensorflow.keras.layers import Dense\n",
    "from tensorflow.keras.optimizers import Adam\n",
    "from tensorflow.keras.layers import Input, Dense\n",
    "\n",
    "# Initialize W&B\n",
    "wandb.init(project=\"iris_mlp\", name=\"experiment_1\", config={\n",
    "    \"learning_rate\": 0.001,\n",
    "    \"batch_size\": 32,\n",
    "    \"epochs\": 50,\n",
    "    \"hidden_layer_size\": 16,\n",
    "    \"architecture\": [\n",
    "        {\"layer\": \"Input\", \"units\": 4},\n",
    "        {\"layer\": \"Dense\", \"units\": 16, \"activation\": \"relu\"},\n",
    "        {\"layer\": \"Dense\", \"units\": 3, \"activation\": \"softmax\"}\n",
    "    ]\n",
    "})"
   ]
  },
  {
   "cell_type": "code",
   "execution_count": 33,
   "metadata": {},
   "outputs": [],
   "source": [
    "# Access the configuration\n",
    "config = wandb.config\n",
    "\n",
    "# Define the model\n",
    "model = Sequential([\n",
    "    Input(shape=(4,)),\n",
    "    Dense(config.hidden_layer_size, activation='relu'),\n",
    "    Dense(3, activation='softmax')\n",
    "])"
   ]
  },
  {
   "cell_type": "code",
   "execution_count": 34,
   "metadata": {},
   "outputs": [],
   "source": [
    "# Compile the model\n",
    "model.compile(\n",
    "    optimizer=Adam(learning_rate=config.learning_rate),\n",
    "    loss='categorical_crossentropy',\n",
    "    metrics=['accuracy']\n",
    ")"
   ]
  },
  {
   "cell_type": "code",
   "execution_count": 35,
   "metadata": {},
   "outputs": [
    {
     "name": "stdout",
     "output_type": "stream",
     "text": [
      "Epoch 1/50\n",
      "4/4 ━━━━━━━━━━━━━━━━━━━━ 2s 723ms/step - accuracy: 0.2812 - loss: 1.29 ━━━━━━━━━━━━━━━━━━━━ 1s 258ms/step - accuracy: 0.2744 - loss: 1.2708 - val_accuracy: 0.2000 - val_loss: 1.2955\n",
      "Epoch 2/50\n",
      "4/4 ━━━━━━━━━━━━━━━━━━━━ 0s 45ms/step - accuracy: 0.4375 - loss: 1.227 ━━━━━━━━━━━━━━━━━━━━ 1s 177ms/step - accuracy: 0.3354 - loss: 1.2458 - val_accuracy: 0.2000 - val_loss: 1.2465\n",
      "Epoch 3/50\n",
      "4/4 ━━━━━━━━━━━━━━━━━━━━ 0s 64ms/step - accuracy: 0.2188 - loss: 1.246 ━━━━━━━━━━━━━━━━━━━━ 1s 162ms/step - accuracy: 0.2827 - loss: 1.2058 - val_accuracy: 0.2667 - val_loss: 1.2011\n",
      "Epoch 4/50\n",
      "4/4 ━━━━━━━━━━━━━━━━━━━━ 0s 33ms/step - accuracy: 0.2812 - loss: 1.269 ━━━━━━━━━━━━━━━━━━━━ 1s 165ms/step - accuracy: 0.3059 - loss: 1.1980 - val_accuracy: 0.2667 - val_loss: 1.1559\n",
      "Epoch 5/50\n",
      "4/4 ━━━━━━━━━━━━━━━━━━━━ 0s 38ms/step - accuracy: 0.4062 - loss: 1.084 ━━━━━━━━━━━━━━━━━━━━ 1s 179ms/step - accuracy: 0.3288 - loss: 1.1350 - val_accuracy: 0.2667 - val_loss: 1.1146\n",
      "Epoch 6/50\n",
      "4/4 ━━━━━━━━━━━━━━━━━━━━ 0s 61ms/step - accuracy: 0.3438 - loss: 1.148 ━━━━━━━━━━━━━━━━━━━━ 1s 175ms/step - accuracy: 0.3167 - loss: 1.1069 - val_accuracy: 0.2667 - val_loss: 1.0761\n",
      "Epoch 7/50\n",
      "4/4 ━━━━━━━━━━━━━━━━━━━━ 0s 39ms/step - accuracy: 0.3125 - loss: 1.086 ━━━━━━━━━━━━━━━━━━━━ 1s 177ms/step - accuracy: 0.3278 - loss: 1.0730 - val_accuracy: 0.2667 - val_loss: 1.0383\n",
      "Epoch 8/50\n",
      "4/4 ━━━━━━━━━━━━━━━━━━━━ 0s 50ms/step - accuracy: 0.2812 - loss: 1.082 ━━━━━━━━━━━━━━━━━━━━ 1s 175ms/step - accuracy: 0.3056 - loss: 1.0577 - val_accuracy: 0.2667 - val_loss: 1.0021\n",
      "Epoch 9/50\n",
      "4/4 ━━━━━━━━━━━━━━━━━━━━ 0s 66ms/step - accuracy: 0.4375 - loss: 0.988 ━━━━━━━━━━━━━━━━━━━━ 1s 168ms/step - accuracy: 0.3705 - loss: 1.0064 - val_accuracy: 0.2667 - val_loss: 0.9674\n",
      "Epoch 10/50\n",
      "4/4 ━━━━━━━━━━━━━━━━━━━━ 0s 73ms/step - accuracy: 0.4688 - loss: 0.910 ━━━━━━━━━━━━━━━━━━━━ 1s 167ms/step - accuracy: 0.3809 - loss: 0.9717 - val_accuracy: 0.2667 - val_loss: 0.9330\n",
      "Epoch 11/50\n",
      "4/4 ━━━━━━━━━━━━━━━━━━━━ 0s 39ms/step - accuracy: 0.3438 - loss: 0.915 ━━━━━━━━━━━━━━━━━━━━ 1s 181ms/step - accuracy: 0.3479 - loss: 0.9662 - val_accuracy: 0.4000 - val_loss: 0.9008\n",
      "Epoch 12/50\n",
      "4/4 ━━━━━━━━━━━━━━━━━━━━ 0s 62ms/step - accuracy: 0.3750 - loss: 0.941 ━━━━━━━━━━━━━━━━━━━━ 1s 179ms/step - accuracy: 0.3864 - loss: 0.9534 - val_accuracy: 0.4000 - val_loss: 0.8730\n",
      "Epoch 13/50\n",
      "4/4 ━━━━━━━━━━━━━━━━━━━━ 0s 60ms/step - accuracy: 0.3750 - loss: 0.912 ━━━━━━━━━━━━━━━━━━━━ 1s 176ms/step - accuracy: 0.4107 - loss: 0.9152 - val_accuracy: 0.4000 - val_loss: 0.8472\n",
      "Epoch 14/50\n",
      "4/4 ━━━━━━━━━━━━━━━━━━━━ 0s 47ms/step - accuracy: 0.4688 - loss: 0.851 ━━━━━━━━━━━━━━━━━━━━ 1s 187ms/step - accuracy: 0.4807 - loss: 0.8916 - val_accuracy: 0.4667 - val_loss: 0.8225\n",
      "Epoch 15/50\n",
      "4/4 ━━━━━━━━━━━━━━━━━━━━ 0s 53ms/step - accuracy: 0.4375 - loss: 0.943 ━━━━━━━━━━━━━━━━━━━━ 1s 170ms/step - accuracy: 0.4943 - loss: 0.8968 - val_accuracy: 0.5333 - val_loss: 0.7990\n",
      "Epoch 16/50\n",
      "4/4 ━━━━━━━━━━━━━━━━━━━━ 0s 46ms/step - accuracy: 0.6250 - loss: 0.885 ━━━━━━━━━━━━━━━━━━━━ 1s 171ms/step - accuracy: 0.6188 - loss: 0.8724 - val_accuracy: 0.6000 - val_loss: 0.7763\n",
      "Epoch 17/50\n",
      "4/4 ━━━━━━━━━━━━━━━━━━━━ 0s 154ms/step - accuracy: 0.5625 - loss: 0.89 ━━━━━━━━━━━━━━━━━━━━ 1s 209ms/step - accuracy: 0.5893 - loss: 0.8709 - val_accuracy: 0.6667 - val_loss: 0.7540\n",
      "Epoch 18/50\n",
      "4/4 ━━━━━━━━━━━━━━━━━━━━ 0s 131ms/step - accuracy: 0.7188 - loss: 0.82 ━━━━━━━━━━━━━━━━━━━━ 1s 235ms/step - accuracy: 0.6622 - loss: 0.8254 - val_accuracy: 0.6667 - val_loss: 0.7323\n",
      "Epoch 19/50\n",
      "4/4 ━━━━━━━━━━━━━━━━━━━━ 0s 110ms/step - accuracy: 0.6875 - loss: 0.81 ━━━━━━━━━━━━━━━━━━━━ 1s 216ms/step - accuracy: 0.6691 - loss: 0.8145 - val_accuracy: 0.8000 - val_loss: 0.7116\n",
      "Epoch 20/50\n",
      "4/4 ━━━━━━━━━━━━━━━━━━━━ 0s 92ms/step - accuracy: 0.5312 - loss: 0.955 ━━━━━━━━━━━━━━━━━━━━ 1s 203ms/step - accuracy: 0.6288 - loss: 0.8494 - val_accuracy: 0.8000 - val_loss: 0.6916\n",
      "Epoch 21/50\n",
      "4/4 ━━━━━━━━━━━━━━━━━━━━ 0s 86ms/step - accuracy: 0.5938 - loss: 0.844 ━━━━━━━━━━━━━━━━━━━━ 1s 228ms/step - accuracy: 0.6611 - loss: 0.8069 - val_accuracy: 0.8000 - val_loss: 0.6726\n",
      "Epoch 22/50\n",
      "4/4 ━━━━━━━━━━━━━━━━━━━━ 0s 115ms/step - accuracy: 0.7812 - loss: 0.70 ━━━━━━━━━━━━━━━━━━━━ 1s 201ms/step - accuracy: 0.7423 - loss: 0.7554 - val_accuracy: 0.8000 - val_loss: 0.6544\n",
      "Epoch 23/50\n",
      "4/4 ━━━━━━━━━━━━━━━━━━━━ 1s 665ms/step - accuracy: 0.6875 - loss: 0.86 ━━━━━━━━━━━━━━━━━━━━ 0s 32ms/step - accuracy: 0.7014 - loss: 0.7977 ━━━━━━━━━━━━━━━━━━━━ 1s 277ms/step - accuracy: 0.7142 - loss: 0.7791 - val_accuracy: 0.8000 - val_loss: 0.6374\n",
      "Epoch 24/50\n",
      "4/4 ━━━━━━━━━━━━━━━━━━━━ 1s 476ms/step - accuracy: 0.7500 - loss: 0.76 ━━━━━━━━━━━━━━━━━━━━ 0s 64ms/step - accuracy: 0.7500 - loss: 0.7470 ━━━━━━━━━━━━━━━━━━━━ 1s 248ms/step - accuracy: 0.7492 - loss: 0.7367 - val_accuracy: 0.8000 - val_loss: 0.6209\n",
      "Epoch 25/50\n",
      "4/4 ━━━━━━━━━━━━━━━━━━━━ 0s 72ms/step - accuracy: 0.6562 - loss: 0.814 ━━━━━━━━━━━━━━━━━━━━ 1s 218ms/step - accuracy: 0.7207 - loss: 0.7476 - val_accuracy: 0.8000 - val_loss: 0.6054\n",
      "Epoch 26/50\n",
      "4/4 ━━━━━━━━━━━━━━━━━━━━ 0s 78ms/step - accuracy: 0.7188 - loss: 0.801 ━━━━━━━━━━━━━━━━━━━━ 0s 19ms/step - accuracy: 0.7551 - loss: 0.741 ━━━━━━━━━━━━━━━━━━━━ 1s 253ms/step - accuracy: 0.7603 - loss: 0.7351 - val_accuracy: 0.8667 - val_loss: 0.5896\n",
      "Epoch 27/50\n",
      "4/4 ━━━━━━━━━━━━━━━━━━━━ 1s 526ms/step - accuracy: 0.7812 - loss: 0.67 ━━━━━━━━━━━━━━━━━━━━ 0s 67ms/step - accuracy: 0.7578 - loss: 0.6885 ━━━━━━━━━━━━━━━━━━━━ 1s 231ms/step - accuracy: 0.7659 - loss: 0.6952 - val_accuracy: 0.8667 - val_loss: 0.5740\n",
      "Epoch 28/50\n",
      "4/4 ━━━━━━━━━━━━━━━━━━━━ 0s 110ms/step - accuracy: 0.7500 - loss: 0.62 ━━━━━━━━━━━━━━━━━━━━ 1s 257ms/step - accuracy: 0.7707 - loss: 0.6704 - val_accuracy: 0.8667 - val_loss: 0.5594\n",
      "Epoch 29/50\n",
      "4/4 ━━━━━━━━━━━━━━━━━━━━ 0s 225ms/step - accuracy: 0.7188 - loss: 0.75 ━━━━━━━━━━━━━━━━━━━━ 0s 52ms/step - accuracy: 0.7422 - loss: 0.7211 ━━━━━━━━━━━━━━━━━━━━ 1s 227ms/step - accuracy: 0.7773 - loss: 0.6888 - val_accuracy: 0.9333 - val_loss: 0.5463\n",
      "Epoch 30/50\n",
      "4/4 ━━━━━━━━━━━━━━━━━━━━ 0s 125ms/step - accuracy: 0.7500 - loss: 0.79 ━━━━━━━━━━━━━━━━━━━━ 1s 237ms/step - accuracy: 0.7960 - loss: 0.6918 - val_accuracy: 0.9333 - val_loss: 0.5339\n",
      "Epoch 31/50\n",
      "4/4 ━━━━━━━━━━━━━━━━━━━━ 0s 94ms/step - accuracy: 0.8125 - loss: 0.594 ━━━━━━━━━━━━━━━━━━━━ 1s 209ms/step - accuracy: 0.8075 - loss: 0.6374 - val_accuracy: 0.9333 - val_loss: 0.5219\n",
      "Epoch 32/50\n",
      "4/4 ━━━━━━━━━━━━━━━━━━━━ 0s 116ms/step - accuracy: 0.7500 - loss: 0.66 ━━━━━━━━━━━━━━━━━━━━ 1s 211ms/step - accuracy: 0.7898 - loss: 0.6474 - val_accuracy: 0.9333 - val_loss: 0.5102\n",
      "Epoch 33/50\n",
      "4/4 ━━━━━━━━━━━━━━━━━━━━ 0s 83ms/step - accuracy: 0.7812 - loss: 0.656 ━━━━━━━━━━━━━━━━━━━━ 1s 197ms/step - accuracy: 0.8030 - loss: 0.6378 - val_accuracy: 0.9333 - val_loss: 0.4992\n",
      "Epoch 34/50\n",
      "4/4 ━━━━━━━━━━━━━━━━━━━━ 0s 73ms/step - accuracy: 0.8438 - loss: 0.570 ━━━━━━━━━━━━━━━━━━━━ 1s 192ms/step - accuracy: 0.8103 - loss: 0.6099 - val_accuracy: 0.9333 - val_loss: 0.4888\n",
      "Epoch 35/50\n",
      "4/4 ━━━━━━━━━━━━━━━━━━━━ 0s 61ms/step - accuracy: 0.8750 - loss: 0.654 ━━━━━━━━━━━━━━━━━━━━ 1s 198ms/step - accuracy: 0.8290 - loss: 0.6248 - val_accuracy: 0.9333 - val_loss: 0.4787\n",
      "Epoch 36/50\n",
      "4/4 ━━━━━━━━━━━━━━━━━━━━ 0s 53ms/step - accuracy: 0.6562 - loss: 0.687 ━━━━━━━━━━━━━━━━━━━━ 1s 165ms/step - accuracy: 0.7644 - loss: 0.6246 - val_accuracy: 0.9333 - val_loss: 0.4693\n",
      "Epoch 37/50\n",
      "4/4 ━━━━━━━━━━━━━━━━━━━━ 0s 69ms/step - accuracy: 0.8125 - loss: 0.616 ━━━━━━━━━━━━━━━━━━━━ 1s 170ms/step - accuracy: 0.8214 - loss: 0.5931 - val_accuracy: 0.9333 - val_loss: 0.4599\n",
      "Epoch 38/50\n",
      "4/4 ━━━━━━━━━━━━━━━━━━━━ 0s 60ms/step - accuracy: 0.8125 - loss: 0.566 ━━━━━━━━━━━━━━━━━━━━ 1s 169ms/step - accuracy: 0.8141 - loss: 0.5872 - val_accuracy: 0.9333 - val_loss: 0.4509\n",
      "Epoch 39/50\n",
      "4/4 ━━━━━━━━━━━━━━━━━━━━ 0s 65ms/step - accuracy: 0.7812 - loss: 0.567 ━━━━━━━━━━━━━━━━━━━━ 1s 178ms/step - accuracy: 0.8182 - loss: 0.5705 - val_accuracy: 0.9333 - val_loss: 0.4424\n",
      "Epoch 40/50\n",
      "4/4 ━━━━━━━━━━━━━━━━━━━━ 0s 58ms/step - accuracy: 0.9062 - loss: 0.509 ━━━━━━━━━━━━━━━━━━━━ 1s 159ms/step - accuracy: 0.8453 - loss: 0.5511 - val_accuracy: 0.9333 - val_loss: 0.4345\n",
      "Epoch 41/50\n",
      "4/4 ━━━━━━━━━━━━━━━━━━━━ 0s 64ms/step - accuracy: 0.8750 - loss: 0.571 ━━━━━━━━━━━━━━━━━━━━ 1s 166ms/step - accuracy: 0.8193 - loss: 0.5791 - val_accuracy: 0.9333 - val_loss: 0.4269\n",
      "Epoch 42/50\n",
      "4/4 ━━━━━━━━━━━━━━━━━━━━ 0s 60ms/step - accuracy: 0.8438 - loss: 0.513 ━━━━━━━━━━━━━━━━━━━━ 1s 182ms/step - accuracy: 0.8186 - loss: 0.5416 - val_accuracy: 0.9333 - val_loss: 0.4191\n",
      "Epoch 43/50\n",
      "4/4 ━━━━━━━━━━━━━━━━━━━━ 0s 43ms/step - accuracy: 0.8750 - loss: 0.484 ━━━━━━━━━━━━━━━━━━━━ 1s 158ms/step - accuracy: 0.8259 - loss: 0.5367 - val_accuracy: 0.9333 - val_loss: 0.4122\n",
      "Epoch 44/50\n",
      "4/4 ━━━━━━━━━━━━━━━━━━━━ 0s 55ms/step - accuracy: 0.7812 - loss: 0.537 ━━━━━━━━━━━━━━━━━━━━ 1s 161ms/step - accuracy: 0.8051 - loss: 0.5375 - val_accuracy: 0.9333 - val_loss: 0.4062\n",
      "Epoch 45/50\n",
      "4/4 ━━━━━━━━━━━━━━━━━━━━ 0s 30ms/step - accuracy: 0.9375 - loss: 0.453 ━━━━━━━━━━━━━━━━━━━━ 1s 160ms/step - accuracy: 0.8426 - loss: 0.5189 - val_accuracy: 0.9333 - val_loss: 0.4004\n",
      "Epoch 46/50\n",
      "4/4 ━━━━━━━━━━━━━━━━━━━━ 0s 32ms/step - accuracy: 0.8438 - loss: 0.557 ━━━━━━━━━━━━━━━━━━━━ 1s 157ms/step - accuracy: 0.8342 - loss: 0.5227 - val_accuracy: 0.9333 - val_loss: 0.3946\n",
      "Epoch 47/50\n",
      "4/4 ━━━━━━━━━━━━━━━━━━━━ 0s 32ms/step - accuracy: 0.8750 - loss: 0.533 ━━━━━━━━━━━━━━━━━━━━ 1s 160ms/step - accuracy: 0.8280 - loss: 0.5283 - val_accuracy: 0.9333 - val_loss: 0.3890\n",
      "Epoch 48/50\n",
      "4/4 ━━━━━━━━━━━━━━━━━━━━ 0s 34ms/step - accuracy: 0.7812 - loss: 0.497 ━━━━━━━━━━━━━━━━━━━━ 1s 162ms/step - accuracy: 0.8099 - loss: 0.5116 - val_accuracy: 0.9333 - val_loss: 0.3834\n",
      "Epoch 49/50\n",
      "4/4 ━━━━━━━━━━━━━━━━━━━━ 0s 48ms/step - accuracy: 0.8438 - loss: 0.504 ━━━━━━━━━━━━━━━━━━━━ 1s 183ms/step - accuracy: 0.8335 - loss: 0.5019 - val_accuracy: 0.9333 - val_loss: 0.3786\n",
      "Epoch 50/50\n",
      "4/4 ━━━━━━━━━━━━━━━━━━━━ 0s 45ms/step - accuracy: 0.7188 - loss: 0.623 ━━━━━━━━━━━━━━━━━━━━ 1s 172ms/step - accuracy: 0.8050 - loss: 0.5317 - val_accuracy: 0.9333 - val_loss: 0.3740\n"
     ]
    }
   ],
   "source": [
    "# Train the model with W&B callback\n",
    "\n",
    "from wandb.integration.keras import WandbMetricsLogger, WandbModelCheckpoint\n",
    "\n",
    "# Train the model with W&B callbacks\n",
    "history = model.fit(\n",
    "    X_train, y_train,\n",
    "    validation_data=(X_val, y_val),\n",
    "    batch_size=config.batch_size,\n",
    "    epochs=config.epochs,\n",
    "    callbacks=[\n",
    "        WandbMetricsLogger(),\n",
    "        WandbModelCheckpoint(filepath=\"model-checkpoints/model.keras\")\n",
    "    ]\n",
    ")\n"
   ]
  },
  {
   "cell_type": "code",
   "execution_count": 36,
   "metadata": {},
   "outputs": [
    {
     "name": "stdout",
     "output_type": "stream",
     "text": [
      "1/1 ━━━━━━━━━━━━━━━━━━━━ 0s 48ms/step - accuracy: 0.7667 - loss: 0.494 ━━━━━━━━━━━━━━━━━━━━ 0s 116ms/step - accuracy: 0.7667 - loss: 0.4943\n",
      "1/1 ━━━━━━━━━━━━━━━━━━━━ 0s 54ms/ste ━━━━━━━━━━━━━━━━━━━━ 0s 185ms/step\n"
     ]
    }
   ],
   "source": [
    "# Evaluate the model\n",
    "test_loss, test_accuracy = model.evaluate(X_test, y_test)\n",
    "y_pred = model.predict(X_test)\n",
    "y_pred_classes = np.argmax(y_pred, axis=1)\n",
    "y_true_classes = np.argmax(y_test, axis=1)\n",
    "\n",
    "precision = precision_score(y_true_classes, y_pred_classes, average='weighted')\n",
    "recall = recall_score(y_true_classes, y_pred_classes, average='weighted')\n",
    "f1 = f1_score(y_true_classes, y_pred_classes, average='weighted')"
   ]
  },
  {
   "cell_type": "code",
   "execution_count": 37,
   "metadata": {},
   "outputs": [],
   "source": [
    "# Log final evaluation metrics\n",
    "wandb.log({\n",
    "    \"test_loss\": test_loss,\n",
    "    \"test_accuracy\": test_accuracy,\n",
    "    \"precision\": precision,\n",
    "    \"recall\": recall,\n",
    "    \"f1_score\": f1\n",
    "})\n"
   ]
  },
  {
   "cell_type": "code",
   "execution_count": 38,
   "metadata": {},
   "outputs": [],
   "source": [
    "# Log confusion matrix\n",
    "cm = confusion_matrix(y_true_classes, y_pred_classes)\n",
    "plt.figure(figsize=(8, 6))\n",
    "sns.heatmap(cm, annot=True, fmt='d', cmap='Blues')\n",
    "plt.title('Confusion Matrix')\n",
    "plt.xlabel('Predicted')\n",
    "plt.ylabel('True')\n",
    "wandb.log({\"confusion_matrix\": wandb.Image(plt)})\n",
    "plt.close()"
   ]
  },
  {
   "cell_type": "code",
   "execution_count": 39,
   "metadata": {},
   "outputs": [],
   "source": [
    "# Log loss curves\n",
    "plt.figure(figsize=(10, 6))\n",
    "plt.plot(history.history['loss'], label='Training Loss')\n",
    "plt.plot(history.history['val_loss'], label='Validation Loss')\n",
    "plt.title('Training and Validation Loss')\n",
    "plt.xlabel('Epoch')\n",
    "plt.ylabel('Loss')\n",
    "plt.legend()\n",
    "wandb.log({\"loss_curves\": wandb.Image(plt)})\n",
    "plt.close()"
   ]
  },
  {
   "cell_type": "code",
   "execution_count": null,
   "metadata": {},
   "outputs": [],
   "source": [
    "# Finish the W&B run\n",
    "\n",
    "# wandb.finish()"
   ]
  }
 ],
 "metadata": {
  "kernelspec": {
   "display_name": "Python 3",
   "language": "python",
   "name": "python3"
  },
  "language_info": {
   "codemirror_mode": {
    "name": "ipython",
    "version": 3
   },
   "file_extension": ".py",
   "mimetype": "text/x-python",
   "name": "python",
   "nbconvert_exporter": "python",
   "pygments_lexer": "ipython3",
   "version": "3.12.7"
  }
 },
 "nbformat": 4,
 "nbformat_minor": 2
}
