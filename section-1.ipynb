{
 "cells": [
  {
   "cell_type": "code",
   "execution_count": null,
   "metadata": {},
   "outputs": [],
   "source": [
    "# Importing required libraries\n",
    "\n",
    "import numpy as np\n",
    "import tensorflow as tf\n",
    "import matplotlib.pyplot as plt\n",
    "import seaborn as sns\n",
    "from sklearn.datasets import load_iris\n",
    "from sklearn.model_selection import train_test_split\n",
    "from sklearn.preprocessing import StandardScaler, OneHotEncoder\n",
    "from sklearn.metrics import accuracy_score, precision_score, recall_score, f1_score, confusion_matrix\n",
    "from tensorflow.keras.models import Sequential\n",
    "from tensorflow.keras.layers import Dense\n",
    "from tensorflow.keras.optimizers import Adam\n",
    "from tensorflow.keras.layers import Input, Dense"
   ]
  },
  {
   "cell_type": "code",
   "execution_count": 2,
   "metadata": {},
   "outputs": [],
   "source": [
    "# Load the Iris dataset\n",
    "\n",
    "data = load_iris()\n",
    "X = data.data  # Features\n",
    "y = data.target.reshape(-1, 1)  # Labels"
   ]
  },
  {
   "cell_type": "code",
   "execution_count": 3,
   "metadata": {},
   "outputs": [
    {
     "name": "stdout",
     "output_type": "stream",
     "text": [
      "First 5 original labels: [0 0 0 0 0]\n",
      "First 5 one-hot encoded labels:\n",
      " [[1. 0. 0.]\n",
      " [1. 0. 0.]\n",
      " [1. 0. 0.]\n",
      " [1. 0. 0.]\n",
      " [1. 0. 0.]]\n"
     ]
    }
   ],
   "source": [
    "# One-hot encode labels\n",
    "\n",
    "encoder = OneHotEncoder(sparse_output=False)\n",
    "y_one_hot = encoder.fit_transform(y)\n",
    "\n",
    "# Print first 5 labels before and after encoding\n",
    "\n",
    "print(\"First 5 original labels:\", y[:5].flatten())\n",
    "print(\"First 5 one-hot encoded labels:\\n\", y_one_hot[:5])"
   ]
  },
  {
   "cell_type": "code",
   "execution_count": 4,
   "metadata": {},
   "outputs": [
    {
     "name": "stdout",
     "output_type": "stream",
     "text": [
      "Original dataset shape: (150, 4), Labels shape: (150, 1)\n",
      "Training set shape: (105, 4), Labels shape: (105, 3)\n",
      "Validation set shape: (15, 4), Labels shape: (15, 3)\n",
      "Test set shape: (30, 4), Labels shape: (30, 3)\n"
     ]
    }
   ],
   "source": [
    "# Split dataset into train (70%), validation (10%), and test (20%)\n",
    "\n",
    "X_train, X_temp, y_train, y_temp = train_test_split(X, y_one_hot, test_size=0.3, random_state=42)\n",
    "X_val, X_test, y_val, y_test = train_test_split(X_temp, y_temp, test_size=2/3, random_state=42)\n",
    "\n",
    "# Print dataset shapes\n",
    "\n",
    "print(f\"Original dataset shape: {X.shape}, Labels shape: {y.shape}\")\n",
    "print(f\"Training set shape: {X_train.shape}, Labels shape: {y_train.shape}\")\n",
    "print(f\"Validation set shape: {X_val.shape}, Labels shape: {y_val.shape}\")\n",
    "print(f\"Test set shape: {X_test.shape}, Labels shape: {y_test.shape}\")"
   ]
  },
  {
   "cell_type": "code",
   "execution_count": 5,
   "metadata": {},
   "outputs": [],
   "source": [
    "# Normalize feature values to [0,1]\n",
    "\n",
    "scaler = StandardScaler()\n",
    "X_train = scaler.fit_transform(X_train)\n",
    "X_val = scaler.transform(X_val)\n",
    "X_test = scaler.transform(X_test)"
   ]
  },
  {
   "cell_type": "code",
   "execution_count": 6,
   "metadata": {},
   "outputs": [],
   "source": [
    "# Define MLP model\n",
    "\n",
    "model = tf.keras.Sequential([\n",
    "    tf.keras.layers.Input(shape=(4,)),\n",
    "    tf.keras.layers.Dense(16, activation='relu'),\n",
    "    tf.keras.layers.Dense(3, activation='softmax')\n",
    "])"
   ]
  },
  {
   "cell_type": "code",
   "execution_count": 7,
   "metadata": {},
   "outputs": [],
   "source": [
    "# Compile model\n",
    "\n",
    "model.compile(\n",
    "    optimizer=tf.keras.optimizers.Adam(learning_rate=0.001),\n",
    "    loss='categorical_crossentropy',\n",
    "    metrics=['accuracy']\n",
    ")"
   ]
  },
  {
   "cell_type": "code",
   "execution_count": 8,
   "metadata": {},
   "outputs": [
    {
     "name": "stdout",
     "output_type": "stream",
     "text": [
      "Epoch 1/50\n",
      "\u001b[1m4/4\u001b[0m \u001b[32m━━━━━━━━━━━━━━━━━━━━\u001b[0m\u001b[37m\u001b[0m \u001b[1m1s\u001b[0m 107ms/step - accuracy: 0.6407 - loss: 0.8863 - val_accuracy: 0.8667 - val_loss: 0.6284\n",
      "Epoch 2/50\n",
      "\u001b[1m4/4\u001b[0m \u001b[32m━━━━━━━━━━━━━━━━━━━━\u001b[0m\u001b[37m\u001b[0m \u001b[1m0s\u001b[0m 38ms/step - accuracy: 0.6132 - loss: 0.8523 - val_accuracy: 0.8667 - val_loss: 0.5982\n",
      "Epoch 3/50\n",
      "\u001b[1m4/4\u001b[0m \u001b[32m━━━━━━━━━━━━━━━━━━━━\u001b[0m\u001b[37m\u001b[0m \u001b[1m0s\u001b[0m 26ms/step - accuracy: 0.6261 - loss: 0.8303 - val_accuracy: 0.8667 - val_loss: 0.5712\n",
      "Epoch 4/50\n",
      "\u001b[1m4/4\u001b[0m \u001b[32m━━━━━━━━━━━━━━━━━━━━\u001b[0m\u001b[37m\u001b[0m \u001b[1m0s\u001b[0m 24ms/step - accuracy: 0.6514 - loss: 0.8097 - val_accuracy: 0.8667 - val_loss: 0.5463\n",
      "Epoch 5/50\n",
      "\u001b[1m4/4\u001b[0m \u001b[32m━━━━━━━━━━━━━━━━━━━━\u001b[0m\u001b[37m\u001b[0m \u001b[1m0s\u001b[0m 33ms/step - accuracy: 0.6604 - loss: 0.7732 - val_accuracy: 0.8667 - val_loss: 0.5239\n",
      "Epoch 6/50\n",
      "\u001b[1m4/4\u001b[0m \u001b[32m━━━━━━━━━━━━━━━━━━━━\u001b[0m\u001b[37m\u001b[0m \u001b[1m0s\u001b[0m 32ms/step - accuracy: 0.6604 - loss: 0.7555 - val_accuracy: 0.8667 - val_loss: 0.5034\n",
      "Epoch 7/50\n",
      "\u001b[1m4/4\u001b[0m \u001b[32m━━━━━━━━━━━━━━━━━━━━\u001b[0m\u001b[37m\u001b[0m \u001b[1m0s\u001b[0m 30ms/step - accuracy: 0.6448 - loss: 0.7556 - val_accuracy: 0.8667 - val_loss: 0.4846\n",
      "Epoch 8/50\n",
      "\u001b[1m4/4\u001b[0m \u001b[32m━━━━━━━━━━━━━━━━━━━━\u001b[0m\u001b[37m\u001b[0m \u001b[1m0s\u001b[0m 28ms/step - accuracy: 0.6924 - loss: 0.7009 - val_accuracy: 0.8667 - val_loss: 0.4673\n",
      "Epoch 9/50\n",
      "\u001b[1m4/4\u001b[0m \u001b[32m━━━━━━━━━━━━━━━━━━━━\u001b[0m\u001b[37m\u001b[0m \u001b[1m0s\u001b[0m 30ms/step - accuracy: 0.6830 - loss: 0.7031 - val_accuracy: 0.8667 - val_loss: 0.4519\n",
      "Epoch 10/50\n",
      "\u001b[1m4/4\u001b[0m \u001b[32m━━━━━━━━━━━━━━━━━━━━\u001b[0m\u001b[37m\u001b[0m \u001b[1m0s\u001b[0m 31ms/step - accuracy: 0.6892 - loss: 0.6797 - val_accuracy: 0.8667 - val_loss: 0.4380\n",
      "Epoch 11/50\n",
      "\u001b[1m4/4\u001b[0m \u001b[32m━━━━━━━━━━━━━━━━━━━━\u001b[0m\u001b[37m\u001b[0m \u001b[1m0s\u001b[0m 21ms/step - accuracy: 0.6757 - loss: 0.6757 - val_accuracy: 0.8667 - val_loss: 0.4254\n",
      "Epoch 12/50\n",
      "\u001b[1m4/4\u001b[0m \u001b[32m━━━━━━━━━━━━━━━━━━━━\u001b[0m\u001b[37m\u001b[0m \u001b[1m0s\u001b[0m 27ms/step - accuracy: 0.6250 - loss: 0.7138 - val_accuracy: 0.8667 - val_loss: 0.4137\n",
      "Epoch 13/50\n",
      "\u001b[1m4/4\u001b[0m \u001b[32m━━━━━━━━━━━━━━━━━━━━\u001b[0m\u001b[37m\u001b[0m \u001b[1m0s\u001b[0m 24ms/step - accuracy: 0.7042 - loss: 0.6138 - val_accuracy: 0.8667 - val_loss: 0.4025\n",
      "Epoch 14/50\n",
      "\u001b[1m4/4\u001b[0m \u001b[32m━━━━━━━━━━━━━━━━━━━━\u001b[0m\u001b[37m\u001b[0m \u001b[1m0s\u001b[0m 29ms/step - accuracy: 0.6840 - loss: 0.6464 - val_accuracy: 0.8667 - val_loss: 0.3925\n",
      "Epoch 15/50\n",
      "\u001b[1m4/4\u001b[0m \u001b[32m━━━━━━━━━━━━━━━━━━━━\u001b[0m\u001b[37m\u001b[0m \u001b[1m0s\u001b[0m 27ms/step - accuracy: 0.7153 - loss: 0.5923 - val_accuracy: 0.8667 - val_loss: 0.3831\n",
      "Epoch 16/50\n",
      "\u001b[1m4/4\u001b[0m \u001b[32m━━━━━━━━━━━━━━━━━━━━\u001b[0m\u001b[37m\u001b[0m \u001b[1m0s\u001b[0m 24ms/step - accuracy: 0.6799 - loss: 0.6069 - val_accuracy: 0.8667 - val_loss: 0.3745\n",
      "Epoch 17/50\n",
      "\u001b[1m4/4\u001b[0m \u001b[32m━━━━━━━━━━━━━━━━━━━━\u001b[0m\u001b[37m\u001b[0m \u001b[1m0s\u001b[0m 29ms/step - accuracy: 0.7049 - loss: 0.5962 - val_accuracy: 0.8667 - val_loss: 0.3663\n",
      "Epoch 18/50\n",
      "\u001b[1m4/4\u001b[0m \u001b[32m━━━━━━━━━━━━━━━━━━━━\u001b[0m\u001b[37m\u001b[0m \u001b[1m0s\u001b[0m 40ms/step - accuracy: 0.6611 - loss: 0.6391 - val_accuracy: 0.8667 - val_loss: 0.3586\n",
      "Epoch 19/50\n",
      "\u001b[1m4/4\u001b[0m \u001b[32m━━━━━━━━━━━━━━━━━━━━\u001b[0m\u001b[37m\u001b[0m \u001b[1m0s\u001b[0m 38ms/step - accuracy: 0.6903 - loss: 0.5873 - val_accuracy: 0.8667 - val_loss: 0.3510\n",
      "Epoch 20/50\n",
      "\u001b[1m4/4\u001b[0m \u001b[32m━━━━━━━━━━━━━━━━━━━━\u001b[0m\u001b[37m\u001b[0m \u001b[1m0s\u001b[0m 24ms/step - accuracy: 0.6732 - loss: 0.5952 - val_accuracy: 0.8667 - val_loss: 0.3443\n",
      "Epoch 21/50\n",
      "\u001b[1m4/4\u001b[0m \u001b[32m━━━━━━━━━━━━━━━━━━━━\u001b[0m\u001b[37m\u001b[0m \u001b[1m0s\u001b[0m 27ms/step - accuracy: 0.6698 - loss: 0.5962 - val_accuracy: 0.8667 - val_loss: 0.3380\n",
      "Epoch 22/50\n",
      "\u001b[1m4/4\u001b[0m \u001b[32m━━━━━━━━━━━━━━━━━━━━\u001b[0m\u001b[37m\u001b[0m \u001b[1m0s\u001b[0m 32ms/step - accuracy: 0.7135 - loss: 0.5612 - val_accuracy: 0.8667 - val_loss: 0.3318\n",
      "Epoch 23/50\n",
      "\u001b[1m4/4\u001b[0m \u001b[32m━━━━━━━━━━━━━━━━━━━━\u001b[0m\u001b[37m\u001b[0m \u001b[1m0s\u001b[0m 28ms/step - accuracy: 0.7073 - loss: 0.5667 - val_accuracy: 0.8667 - val_loss: 0.3260\n",
      "Epoch 24/50\n",
      "\u001b[1m4/4\u001b[0m \u001b[32m━━━━━━━━━━━━━━━━━━━━\u001b[0m\u001b[37m\u001b[0m \u001b[1m0s\u001b[0m 20ms/step - accuracy: 0.6948 - loss: 0.5603 - val_accuracy: 0.8667 - val_loss: 0.3207\n",
      "Epoch 25/50\n",
      "\u001b[1m4/4\u001b[0m \u001b[32m━━━━━━━━━━━━━━━━━━━━\u001b[0m\u001b[37m\u001b[0m \u001b[1m0s\u001b[0m 21ms/step - accuracy: 0.7187 - loss: 0.5383 - val_accuracy: 0.8667 - val_loss: 0.3157\n",
      "Epoch 26/50\n",
      "\u001b[1m4/4\u001b[0m \u001b[32m━━━━━━━━━━━━━━━━━━━━\u001b[0m\u001b[37m\u001b[0m \u001b[1m0s\u001b[0m 24ms/step - accuracy: 0.6885 - loss: 0.5563 - val_accuracy: 0.8667 - val_loss: 0.3116\n",
      "Epoch 27/50\n",
      "\u001b[1m4/4\u001b[0m \u001b[32m━━━━━━━━━━━━━━━━━━━━\u001b[0m\u001b[37m\u001b[0m \u001b[1m0s\u001b[0m 21ms/step - accuracy: 0.7093 - loss: 0.5173 - val_accuracy: 0.8667 - val_loss: 0.3080\n",
      "Epoch 28/50\n",
      "\u001b[1m4/4\u001b[0m \u001b[32m━━━━━━━━━━━━━━━━━━━━\u001b[0m\u001b[37m\u001b[0m \u001b[1m0s\u001b[0m 23ms/step - accuracy: 0.6781 - loss: 0.5493 - val_accuracy: 0.8667 - val_loss: 0.3046\n",
      "Epoch 29/50\n",
      "\u001b[1m4/4\u001b[0m \u001b[32m━━━━━━━━━━━━━━━━━━━━\u001b[0m\u001b[37m\u001b[0m \u001b[1m0s\u001b[0m 29ms/step - accuracy: 0.6823 - loss: 0.5366 - val_accuracy: 0.8667 - val_loss: 0.3011\n",
      "Epoch 30/50\n",
      "\u001b[1m4/4\u001b[0m \u001b[32m━━━━━━━━━━━━━━━━━━━━\u001b[0m\u001b[37m\u001b[0m \u001b[1m0s\u001b[0m 32ms/step - accuracy: 0.7409 - loss: 0.4966 - val_accuracy: 0.8667 - val_loss: 0.2972\n",
      "Epoch 31/50\n",
      "\u001b[1m4/4\u001b[0m \u001b[32m━━━━━━━━━━━━━━━━━━━━\u001b[0m\u001b[37m\u001b[0m \u001b[1m0s\u001b[0m 41ms/step - accuracy: 0.7312 - loss: 0.5143 - val_accuracy: 0.8667 - val_loss: 0.2933\n",
      "Epoch 32/50\n",
      "\u001b[1m4/4\u001b[0m \u001b[32m━━━━━━━━━━━━━━━━━━━━\u001b[0m\u001b[37m\u001b[0m \u001b[1m0s\u001b[0m 32ms/step - accuracy: 0.7402 - loss: 0.5233 - val_accuracy: 0.8667 - val_loss: 0.2896\n",
      "Epoch 33/50\n",
      "\u001b[1m4/4\u001b[0m \u001b[32m━━━━━━━━━━━━━━━━━━━━\u001b[0m\u001b[37m\u001b[0m \u001b[1m0s\u001b[0m 28ms/step - accuracy: 0.7322 - loss: 0.5392 - val_accuracy: 0.8667 - val_loss: 0.2862\n",
      "Epoch 34/50\n",
      "\u001b[1m4/4\u001b[0m \u001b[32m━━━━━━━━━━━━━━━━━━━━\u001b[0m\u001b[37m\u001b[0m \u001b[1m0s\u001b[0m 27ms/step - accuracy: 0.7166 - loss: 0.5587 - val_accuracy: 0.8667 - val_loss: 0.2829\n",
      "Epoch 35/50\n",
      "\u001b[1m4/4\u001b[0m \u001b[32m━━━━━━━━━━━━━━━━━━━━\u001b[0m\u001b[37m\u001b[0m \u001b[1m0s\u001b[0m 32ms/step - accuracy: 0.7693 - loss: 0.4997 - val_accuracy: 0.8667 - val_loss: 0.2795\n",
      "Epoch 36/50\n",
      "\u001b[1m4/4\u001b[0m \u001b[32m━━━━━━━━━━━━━━━━━━━━\u001b[0m\u001b[37m\u001b[0m \u001b[1m0s\u001b[0m 23ms/step - accuracy: 0.7683 - loss: 0.5085 - val_accuracy: 0.8667 - val_loss: 0.2763\n",
      "Epoch 37/50\n",
      "\u001b[1m4/4\u001b[0m \u001b[32m━━━━━━━━━━━━━━━━━━━━\u001b[0m\u001b[37m\u001b[0m \u001b[1m0s\u001b[0m 23ms/step - accuracy: 0.7360 - loss: 0.5262 - val_accuracy: 0.8667 - val_loss: 0.2733\n",
      "Epoch 38/50\n",
      "\u001b[1m4/4\u001b[0m \u001b[32m━━━━━━━━━━━━━━━━━━━━\u001b[0m\u001b[37m\u001b[0m \u001b[1m0s\u001b[0m 25ms/step - accuracy: 0.7964 - loss: 0.4651 - val_accuracy: 0.8667 - val_loss: 0.2703\n",
      "Epoch 39/50\n",
      "\u001b[1m4/4\u001b[0m \u001b[32m━━━━━━━━━━━━━━━━━━━━\u001b[0m\u001b[37m\u001b[0m \u001b[1m0s\u001b[0m 25ms/step - accuracy: 0.7443 - loss: 0.5029 - val_accuracy: 0.8667 - val_loss: 0.2677\n",
      "Epoch 40/50\n",
      "\u001b[1m4/4\u001b[0m \u001b[32m━━━━━━━━━━━━━━━━━━━━\u001b[0m\u001b[37m\u001b[0m \u001b[1m0s\u001b[0m 22ms/step - accuracy: 0.7808 - loss: 0.4621 - val_accuracy: 0.8667 - val_loss: 0.2650\n",
      "Epoch 41/50\n",
      "\u001b[1m4/4\u001b[0m \u001b[32m━━━━━━━━━━━━━━━━━━━━\u001b[0m\u001b[37m\u001b[0m \u001b[1m0s\u001b[0m 25ms/step - accuracy: 0.7634 - loss: 0.4814 - val_accuracy: 0.9333 - val_loss: 0.2625\n",
      "Epoch 42/50\n",
      "\u001b[1m4/4\u001b[0m \u001b[32m━━━━━━━━━━━━━━━━━━━━\u001b[0m\u001b[37m\u001b[0m \u001b[1m0s\u001b[0m 20ms/step - accuracy: 0.7832 - loss: 0.4649 - val_accuracy: 0.9333 - val_loss: 0.2602\n",
      "Epoch 43/50\n",
      "\u001b[1m4/4\u001b[0m \u001b[32m━━━━━━━━━━━━━━━━━━━━\u001b[0m\u001b[37m\u001b[0m \u001b[1m0s\u001b[0m 18ms/step - accuracy: 0.8009 - loss: 0.4436 - val_accuracy: 0.9333 - val_loss: 0.2580\n",
      "Epoch 44/50\n",
      "\u001b[1m4/4\u001b[0m \u001b[32m━━━━━━━━━━━━━━━━━━━━\u001b[0m\u001b[37m\u001b[0m \u001b[1m0s\u001b[0m 38ms/step - accuracy: 0.7728 - loss: 0.4925 - val_accuracy: 0.9333 - val_loss: 0.2561\n",
      "Epoch 45/50\n",
      "\u001b[1m4/4\u001b[0m \u001b[32m━━━━━━━━━━━━━━━━━━━━\u001b[0m\u001b[37m\u001b[0m \u001b[1m0s\u001b[0m 22ms/step - accuracy: 0.7874 - loss: 0.4445 - val_accuracy: 0.9333 - val_loss: 0.2539\n",
      "Epoch 46/50\n",
      "\u001b[1m4/4\u001b[0m \u001b[32m━━━━━━━━━━━━━━━━━━━━\u001b[0m\u001b[37m\u001b[0m \u001b[1m0s\u001b[0m 23ms/step - accuracy: 0.7849 - loss: 0.4604 - val_accuracy: 0.9333 - val_loss: 0.2517\n",
      "Epoch 47/50\n",
      "\u001b[1m4/4\u001b[0m \u001b[32m━━━━━━━━━━━━━━━━━━━━\u001b[0m\u001b[37m\u001b[0m \u001b[1m0s\u001b[0m 38ms/step - accuracy: 0.7943 - loss: 0.4527 - val_accuracy: 0.9333 - val_loss: 0.2492\n",
      "Epoch 48/50\n",
      "\u001b[1m4/4\u001b[0m \u001b[32m━━━━━━━━━━━━━━━━━━━━\u001b[0m\u001b[37m\u001b[0m \u001b[1m0s\u001b[0m 42ms/step - accuracy: 0.7662 - loss: 0.4839 - val_accuracy: 0.9333 - val_loss: 0.2469\n",
      "Epoch 49/50\n",
      "\u001b[1m4/4\u001b[0m \u001b[32m━━━━━━━━━━━━━━━━━━━━\u001b[0m\u001b[37m\u001b[0m \u001b[1m0s\u001b[0m 31ms/step - accuracy: 0.7898 - loss: 0.4791 - val_accuracy: 0.9333 - val_loss: 0.2446\n",
      "Epoch 50/50\n",
      "\u001b[1m4/4\u001b[0m \u001b[32m━━━━━━━━━━━━━━━━━━━━\u001b[0m\u001b[37m\u001b[0m \u001b[1m0s\u001b[0m 28ms/step - accuracy: 0.7835 - loss: 0.4455 - val_accuracy: 0.9333 - val_loss: 0.2427\n"
     ]
    }
   ],
   "source": [
    "# Train model and store history\n",
    "\n",
    "history = model.fit(\n",
    "    X_train, y_train,\n",
    "    validation_data=(X_val, y_val),\n",
    "    epochs=50,\n",
    "    batch_size=32,\n",
    "    verbose=1\n",
    ")"
   ]
  },
  {
   "cell_type": "code",
   "execution_count": 9,
   "metadata": {},
   "outputs": [
    {
     "name": "stdout",
     "output_type": "stream",
     "text": [
      "\u001b[1m1/1\u001b[0m \u001b[32m━━━━━━━━━━━━━━━━━━━━\u001b[0m\u001b[37m\u001b[0m \u001b[1m0s\u001b[0m 58ms/step\n"
     ]
    }
   ],
   "source": [
    "# Evaluate on test data\n",
    "\n",
    "y_pred_probs = model.predict(X_test)\n",
    "y_pred = np.argmax(y_pred_probs, axis=1)\n",
    "y_true = np.argmax(y_test, axis=1)"
   ]
  },
  {
   "cell_type": "code",
   "execution_count": 10,
   "metadata": {},
   "outputs": [
    {
     "name": "stdout",
     "output_type": "stream",
     "text": [
      "Test Accuracy: 0.7333\n",
      "Test Precision: 0.8222\n",
      "Test Recall: 0.7576\n",
      "Test F1 Score: 0.6883\n"
     ]
    }
   ],
   "source": [
    "# Compute metrics\n",
    "\n",
    "accuracy = accuracy_score(y_true, y_pred)\n",
    "precision = precision_score(y_true, y_pred, average='macro')\n",
    "recall = recall_score(y_true, y_pred, average='macro')\n",
    "f1 = f1_score(y_true, y_pred, average='macro')\n",
    "conf_matrix = confusion_matrix(y_true, y_pred)\n",
    "\n",
    "# Print metrics\n",
    "\n",
    "print(f\"Test Accuracy: {accuracy:.4f}\")\n",
    "print(f\"Test Precision: {precision:.4f}\")\n",
    "print(f\"Test Recall: {recall:.4f}\")\n",
    "print(f\"Test F1 Score: {f1:.4f}\")"
   ]
  },
  {
   "cell_type": "code",
   "execution_count": 11,
   "metadata": {},
   "outputs": [
    {
     "data": {
      "image/png": "[encoded data removed]",
      "text/plain": [
       "<Figure size 800x500 with 1 Axes>"
      ]
     },
     "metadata": {},
     "output_type": "display_data"
    }
   ],
   "source": [
    "# Plot training & validation loss\n",
    "\n",
    "plt.figure(figsize=(8, 5))\n",
    "plt.plot(history.history['loss'], label='Training Loss')\n",
    "plt.plot(history.history['val_loss'], label='Validation Loss')\n",
    "plt.xlabel('Epochs')\n",
    "plt.ylabel('Loss')\n",
    "plt.legend()\n",
    "plt.title('Training & Validation Loss')\n",
    "plt.show()"
   ]
  },
  {
   "cell_type": "code",
   "execution_count": 12,
   "metadata": {},
   "outputs": [
    {
     "data": {
      "image/png": "[encoded data removed]",
      "text/plain": [
       "<Figure size 600x500 with 2 Axes>"
      ]
     },
     "metadata": {},
     "output_type": "display_data"
    }
   ],
   "source": [
    "# Plot confusion matrix\n",
    "\n",
    "plt.figure(figsize=(6, 5))\n",
    "sns.heatmap(conf_matrix, annot=True, cmap='Blues', fmt='d', xticklabels=data.target_names, yticklabels=data.target_names)\n",
    "plt.xlabel('Predicted Labels')\n",
    "plt.ylabel('True Labels')\n",
    "plt.title('Confusion Matrix')\n",
    "plt.show()"
   ]
  },
  {
   "cell_type": "code",
   "execution_count": 13,
   "metadata": {},
   "outputs": [
    {
     "name": "stdout",
     "output_type": "stream",
     "text": [
      "Requirement already satisfied: wandb in c:\\users\\darpa\\appdata\\local\\programs\\python\\python312\\lib\\site-packages (0.19.7)\n",
      "Requirement already satisfied: click!=8.0.0,>=7.1 in c:\\users\\darpa\\appdata\\local\\programs\\python\\python312\\lib\\site-packages (from wandb) (8.1.7)\n",
      "Requirement already satisfied: docker-pycreds>=0.4.0 in c:\\users\\darpa\\appdata\\local\\programs\\python\\python312\\lib\\site-packages (from wandb) (0.4.0)\n",
      "Requirement already satisfied: gitpython!=3.1.29,>=1.0.0 in c:\\users\\darpa\\appdata\\local\\programs\\python\\python312\\lib\\site-packages (from wandb) (3.1.43)\n",
      "Requirement already satisfied: platformdirs in c:\\users\\darpa\\appdata\\local\\programs\\python\\python312\\lib\\site-packages (from wandb) (4.2.2)\n",
      "Requirement already satisfied: protobuf!=4.21.0,!=5.28.0,<6,>=3.19.0 in c:\\users\\darpa\\appdata\\local\\programs\\python\\python312\\lib\\site-packages (from wandb) (4.25.5)\n",
      "Requirement already satisfied: psutil>=5.0.0 in c:\\users\\darpa\\appdata\\local\\programs\\python\\python312\\lib\\site-packages (from wandb) (6.0.0)\n",
      "Requirement already satisfied: pydantic<3,>=2.6 in c:\\users\\darpa\\appdata\\local\\programs\\python\\python312\\lib\\site-packages (from wandb) (2.10.6)\n",
      "Requirement already satisfied: pyyaml in c:\\users\\darpa\\appdata\\local\\programs\\python\\python312\\lib\\site-packages (from wandb) (6.0.2)\n",
      "Requirement already satisfied: requests<3,>=2.0.0 in c:\\users\\darpa\\appdata\\local\\programs\\python\\python312\\lib\\site-packages (from wandb) (2.32.3)\n",
      "Requirement already satisfied: sentry-sdk>=2.0.0 in c:\\users\\darpa\\appdata\\local\\programs\\python\\python312\\lib\\site-packages (from wandb) (2.20.0)\n",
      "Requirement already satisfied: setproctitle in c:\\users\\darpa\\appdata\\local\\programs\\python\\python312\\lib\\site-packages (from wandb) (1.3.5)\n",
      "Requirement already satisfied: setuptools in c:\\users\\darpa\\appdata\\local\\programs\\python\\python312\\lib\\site-packages (from wandb) (75.8.0)\n",
      "Requirement already satisfied: colorama in c:\\users\\darpa\\appdata\\local\\programs\\python\\python312\\lib\\site-packages (from click!=8.0.0,>=7.1->wandb) (0.4.6)\n",
      "Requirement already satisfied: six>=1.4.0 in c:\\users\\darpa\\appdata\\local\\programs\\python\\python312\\lib\\site-packages (from docker-pycreds>=0.4.0->wandb) (1.16.0)\n",
      "Requirement already satisfied: gitdb<5,>=4.0.1 in c:\\users\\darpa\\appdata\\local\\programs\\python\\python312\\lib\\site-packages (from gitpython!=3.1.29,>=1.0.0->wandb) (4.0.11)\n",
      "Requirement already satisfied: annotated-types>=0.6.0 in c:\\users\\darpa\\appdata\\local\\programs\\python\\python312\\lib\\site-packages (from pydantic<3,>=2.6->wandb) (0.7.0)\n",
      "Requirement already satisfied: pydantic-core==2.27.2 in c:\\users\\darpa\\appdata\\local\\programs\\python\\python312\\lib\\site-packages (from pydantic<3,>=2.6->wandb) (2.27.2)\n",
      "Requirement already satisfied: typing-extensions>=4.12.2 in c:\\users\\darpa\\appdata\\local\\programs\\python\\python312\\lib\\site-packages (from pydantic<3,>=2.6->wandb) (4.12.2)\n",
      "Requirement already satisfied: charset-normalizer<4,>=2 in c:\\users\\darpa\\appdata\\local\\programs\\python\\python312\\lib\\site-packages (from requests<3,>=2.0.0->wandb) (3.3.2)\n",
      "Requirement already satisfied: idna<4,>=2.5 in c:\\users\\darpa\\appdata\\local\\programs\\python\\python312\\lib\\site-packages (from requests<3,>=2.0.0->wandb) (3.7)\n",
      "Requirement already satisfied: urllib3<3,>=1.21.1 in c:\\users\\darpa\\appdata\\local\\programs\\python\\python312\\lib\\site-packages (from requests<3,>=2.0.0->wandb) (1.26.20)\n",
      "Requirement already satisfied: certifi>=2017.4.17 in c:\\users\\darpa\\appdata\\local\\programs\\python\\python312\\lib\\site-packages (from requests<3,>=2.0.0->wandb) (2024.7.4)\n",
      "Requirement already satisfied: smmap<6,>=3.0.1 in c:\\users\\darpa\\appdata\\local\\programs\\python\\python312\\lib\\site-packages (from gitdb<5,>=4.0.1->gitpython!=3.1.29,>=1.0.0->wandb) (5.0.1)\n"
     ]
    },
    {
     "name": "stderr",
     "output_type": "stream",
     "text": [
      "\n",
      "[notice] A new release of pip is available: 25.0 -> 25.0.1\n",
      "[notice] To update, run: python.exe -m pip install --upgrade pip\n"
     ]
    }
   ],
   "source": [
    "!pip install wandb"
   ]
  },
  {
   "cell_type": "code",
   "execution_count": null,
   "metadata": {},
   "outputs": [],
   "source": [
    "import wandb\n",
    "from wandb.integration.keras import WandbCallback\n",
    "from wandb.integration.keras import WandbMetricsLogger, WandbModelCheckpoint"
   ]
  },
  {
   "cell_type": "code",
   "execution_count": null,
   "metadata": {},
   "outputs": [
    {
     "name": "stderr",
     "output_type": "stream",
     "text": [
      "wandb: Using wandb-core as the SDK backend.  Please refer to https://wandb.me/wandb-core for more information.\n",
      "wandb: Currently logged in as: darpana (darpana-indian-institute-of-technology-gandhinagar) to https://api.wandb.ai. Use `wandb login --relogin` to force relogin\n"
     ]
    },
    {
     "data": {
      "text/html": [
       "creating run (0.0s)"
      ],
      "text/plain": [
       "<IPython.core.display.HTML object>"
      ]
     },
     "metadata": {},
     "output_type": "display_data"
    },
    {
     "data": {
      "text/html": [
       "Tracking run with wandb version 0.19.7"
      ],
      "text/plain": [
       "<IPython.core.display.HTML object>"
      ]
     },
     "metadata": {},
     "output_type": "display_data"
    },
    {
     "data": {
      "text/html": [
       "Run data is saved locally in <code>c:\\Users\\darpa\\Downloads\\vs code projects\\stt_6\\wandb\\run-20250224_203218-jxioliz3</code>"
      ],
      "text/plain": [
       "<IPython.core.display.HTML object>"
      ]
     },
     "metadata": {},
     "output_type": "display_data"
    },
    {
     "data": {
      "text/html": [
       "Syncing run <strong><a href='https://wandb.ai/darpana-indian-institute-of-technology-gandhinagar/iris_mlp/runs/jxioliz3' target=\"_blank\">experiment_1</a></strong> to <a href='https://wandb.ai/darpana-indian-institute-of-technology-gandhinagar/iris_mlp' target=\"_blank\">Weights & Biases</a> (<a href='https://wandb.me/developer-guide' target=\"_blank\">docs</a>)<br>"
      ],
      "text/plain": [
       "<IPython.core.display.HTML object>"
      ]
     },
     "metadata": {},
     "output_type": "display_data"
    },
    {
     "data": {
      "text/html": [
       " View project at <a href='https://wandb.ai/darpana-indian-institute-of-technology-gandhinagar/iris_mlp' target=\"_blank\">https://wandb.ai/darpana-indian-institute-of-technology-gandhinagar/iris_mlp</a>"
      ],
      "text/plain": [
       "<IPython.core.display.HTML object>"
      ]
     },
     "metadata": {},
     "output_type": "display_data"
    },
    {
     "data": {
      "text/html": [
       " View run at <a href='https://wandb.ai/darpana-indian-institute-of-technology-gandhinagar/iris_mlp/runs/jxioliz3' target=\"_blank\">https://wandb.ai/darpana-indian-institute-of-technology-gandhinagar/iris_mlp/runs/jxioliz3</a>"
      ],
      "text/plain": [
       "<IPython.core.display.HTML object>"
      ]
     },
     "metadata": {},
     "output_type": "display_data"
    },
    {
     "data": {
      "text/html": [
       "<button onClick=\"this.nextSibling.style.display='block';this.style.display='none';\">Display W&B run</button><iframe src='https://wandb.ai/darpana-indian-institute-of-technology-gandhinagar/iris_mlp/runs/jxioliz3?jupyter=true' style='border:none;width:100%;height:420px;display:none;'></iframe>"
      ],
      "text/plain": [
       "<wandb.sdk.wandb_run.Run at 0x22dee38e810>"
      ]
     },
     "execution_count": 15,
     "metadata": {},
     "output_type": "execute_result"
    }
   ],
   "source": [
    "# Initialize W&B\n",
    "\n",
    "wandb.init(project=\"iris_mlp\", name=\"experiment_1\", config={\n",
    "    \"learning_rate\": 0.001,\n",
    "    \"batch_size\": 32,\n",
    "    \"epochs\": 50,\n",
    "    \"hidden_layer_size\": 16,\n",
    "    \"architecture\": [\n",
    "        {\"layer\": \"Input\", \"units\": 4},\n",
    "        {\"layer\": \"Dense\", \"units\": 16, \"activation\": \"relu\"},\n",
    "        {\"layer\": \"Dense\", \"units\": 3, \"activation\": \"softmax\"}\n",
    "    ]\n",
    "})"
   ]
  },
  {
   "cell_type": "code",
   "execution_count": 16,
   "metadata": {},
   "outputs": [],
   "source": [
    "# Access the configuration\n",
    "\n",
    "config = wandb.config\n",
    "\n",
    "# Define the model\n",
    "\n",
    "model = Sequential([\n",
    "    Input(shape=(4,)),\n",
    "    Dense(config.hidden_layer_size, activation='relu'),\n",
    "    Dense(3, activation='softmax')\n",
    "])"
   ]
  },
  {
   "cell_type": "code",
   "execution_count": 17,
   "metadata": {},
   "outputs": [],
   "source": [
    "# Compile the model\n",
    "\n",
    "model.compile(\n",
    "    optimizer=Adam(learning_rate=config.learning_rate),\n",
    "    loss='categorical_crossentropy',\n",
    "    metrics=['accuracy']\n",
    ")"
   ]
  },
  {
   "cell_type": "code",
   "execution_count": null,
   "metadata": {},
   "outputs": [
    {
     "name": "stdout",
     "output_type": "stream",
     "text": [
      "Epoch 1/50\n",
      "4/4 ━━━━━━━━━━━━━━━━━━━━ 1s 636ms/step - accuracy: 0.3438 - loss: 1.19 ━━━━━━━━━━━━━━━━━━━━ 1s 223ms/step - accuracy: 0.2966 - loss: 1.2068 - val_accuracy: 0.4667 - val_loss: 1.0593\n",
      "Epoch 2/50\n",
      "4/4 ━━━━━━━━━━━━━━━━━━━━ 0s 23ms/step - accuracy: 0.3125 - loss: 1.198 ━━━━━━━━━━━━━━━━━━━━ 0s 158ms/step - accuracy: 0.3149 - loss: 1.1816 - val_accuracy: 0.4667 - val_loss: 1.0149\n",
      "Epoch 3/50\n",
      "4/4 ━━━━━━━━━━━━━━━━━━━━ 0s 47ms/step - accuracy: 0.3125 - loss: 1.127 ━━━━━━━━━━━━━━━━━━━━ 1s 175ms/step - accuracy: 0.3545 - loss: 1.1322 - val_accuracy: 0.4667 - val_loss: 0.9725\n",
      "Epoch 4/50\n",
      "4/4 ━━━━━━━━━━━━━━━━━━━━ 0s 57ms/step - accuracy: 0.4062 - loss: 1.080 ━━━━━━━━━━━━━━━━━━━━ 1s 167ms/step - accuracy: 0.3708 - loss: 1.1060 - val_accuracy: 0.4667 - val_loss: 0.9325\n",
      "Epoch 5/50\n",
      "4/4 ━━━━━━━━━━━━━━━━━━━━ 0s 49ms/step - accuracy: 0.5312 - loss: 1.010 ━━━━━━━━━━━━━━━━━━━━ 1s 163ms/step - accuracy: 0.4118 - loss: 1.0708 - val_accuracy: 0.6000 - val_loss: 0.8951\n",
      "Epoch 6/50\n",
      "4/4 ━━━━━━━━━━━━━━━━━━━━ 0s 31ms/step - accuracy: 0.2812 - loss: 1.145 ━━━━━━━━━━━━━━━━━━━━ 1s 174ms/step - accuracy: 0.3572 - loss: 1.0766 - val_accuracy: 0.6000 - val_loss: 0.8604\n",
      "Epoch 7/50\n",
      "4/4 ━━━━━━━━━━━━━━━━━━━━ 0s 41ms/step - accuracy: 0.5000 - loss: 0.965 ━━━━━━━━━━━━━━━━━━━━ 1s 166ms/step - accuracy: 0.4381 - loss: 1.0167 - val_accuracy: 0.6667 - val_loss: 0.8266\n",
      "Epoch 8/50\n",
      "4/4 ━━━━━━━━━━━━━━━━━━━━ 0s 37ms/step - accuracy: 0.4375 - loss: 1.009 ━━━━━━━━━━━━━━━━━━━━ 1s 180ms/step - accuracy: 0.4526 - loss: 0.9999 - val_accuracy: 0.7333 - val_loss: 0.7944\n",
      "Epoch 9/50\n",
      "4/4 ━━━━━━━━━━━━━━━━━━━━ 0s 52ms/step - accuracy: 0.5312 - loss: 0.895 ━━━━━━━━━━━━━━━━━━━━ 1s 175ms/step - accuracy: 0.4999 - loss: 0.9446 - val_accuracy: 0.8000 - val_loss: 0.7639\n",
      "Epoch 10/50\n",
      "4/4 ━━━━━━━━━━━━━━━━━━━━ 0s 56ms/step - accuracy: 0.4062 - loss: 1.022 ━━━━━━━━━━━━━━━━━━━━ 1s 189ms/step - accuracy: 0.4624 - loss: 0.9671 - val_accuracy: 0.8000 - val_loss: 0.7358\n",
      "Epoch 11/50\n",
      "4/4 ━━━━━━━━━━━━━━━━━━━━ 0s 61ms/step - accuracy: 0.4688 - loss: 0.938 ━━━━━━━━━━━━━━━━━━━━ 1s 184ms/step - accuracy: 0.4863 - loss: 0.9293 - val_accuracy: 0.8000 - val_loss: 0.7094\n",
      "Epoch 12/50\n",
      "4/4 ━━━━━━━━━━━━━━━━━━━━ 0s 29ms/step - accuracy: 0.6250 - loss: 0.879 ━━━━━━━━━━━━━━━━━━━━ 1s 206ms/step - accuracy: 0.5689 - loss: 0.8911 - val_accuracy: 0.8000 - val_loss: 0.6843\n",
      "Epoch 13/50\n",
      "4/4 ━━━━━━━━━━━━━━━━━━━━ 0s 78ms/step - accuracy: 0.6875 - loss: 0.745 ━━━━━━━━━━━━━━━━━━━━ 1s 182ms/step - accuracy: 0.5904 - loss: 0.8440 - val_accuracy: 0.8000 - val_loss: 0.6610\n",
      "Epoch 14/50\n",
      "4/4 ━━━━━━━━━━━━━━━━━━━━ 0s 38ms/step - accuracy: 0.5938 - loss: 0.876 ━━━━━━━━━━━━━━━━━━━━ 1s 163ms/step - accuracy: 0.5633 - loss: 0.8728 - val_accuracy: 0.8667 - val_loss: 0.6399\n",
      "Epoch 15/50\n",
      "4/4 ━━━━━━━━━━━━━━━━━━━━ 0s 77ms/step - accuracy: 0.5625 - loss: 0.904 ━━━━━━━━━━━━━━━━━━━━ 1s 197ms/step - accuracy: 0.5647 - loss: 0.8682 - val_accuracy: 0.8667 - val_loss: 0.6198\n",
      "Epoch 16/50\n",
      "4/4 ━━━━━━━━━━━━━━━━━━━━ 0s 28ms/step - accuracy: 0.6250 - loss: 0.775 ━━━━━━━━━━━━━━━━━━━━ 1s 163ms/step - accuracy: 0.5938 - loss: 0.8114 - val_accuracy: 0.8667 - val_loss: 0.6008\n",
      "Epoch 17/50\n",
      "4/4 ━━━━━━━━━━━━━━━━━━━━ 0s 30ms/step - accuracy: 0.5312 - loss: 0.896 ━━━━━━━━━━━━━━━━━━━━ 1s 178ms/step - accuracy: 0.5838 - loss: 0.8257 - val_accuracy: 0.8667 - val_loss: 0.5832\n",
      "Epoch 18/50\n",
      "4/4 ━━━━━━━━━━━━━━━━━━━━ 0s 43ms/step - accuracy: 0.5938 - loss: 0.800 ━━━━━━━━━━━━━━━━━━━━ 1s 173ms/step - accuracy: 0.6191 - loss: 0.7998 - val_accuracy: 0.8667 - val_loss: 0.5666\n",
      "Epoch 19/50\n",
      "4/4 ━━━━━━━━━━━━━━━━━━━━ 0s 45ms/step - accuracy: 0.5938 - loss: 0.798 ━━━━━━━━━━━━━━━━━━━━ 1s 184ms/step - accuracy: 0.6219 - loss: 0.7849 - val_accuracy: 0.8667 - val_loss: 0.5511\n",
      "Epoch 20/50\n",
      "4/4 ━━━━━━━━━━━━━━━━━━━━ 0s 48ms/step - accuracy: 0.5938 - loss: 0.733 ━━━━━━━━━━━━━━━━━━━━ 1s 215ms/step - accuracy: 0.6261 - loss: 0.7513 - val_accuracy: 0.8667 - val_loss: 0.5363\n",
      "Epoch 21/50\n",
      "4/4 ━━━━━━━━━━━━━━━━━━━━ 0s 74ms/step - accuracy: 0.7188 - loss: 0.769 ━━━━━━━━━━━━━━━━━━━━ 1s 159ms/step - accuracy: 0.6875 - loss: 0.7491 - val_accuracy: 0.8667 - val_loss: 0.5220\n",
      "Epoch 22/50\n",
      "4/4 ━━━━━━━━━━━━━━━━━━━━ 0s 63ms/step - accuracy: 0.6562 - loss: 0.704 ━━━━━━━━━━━━━━━━━━━━ 1s 167ms/step - accuracy: 0.6535 - loss: 0.7279 - val_accuracy: 0.8667 - val_loss: 0.5086\n",
      "Epoch 23/50\n",
      "4/4 ━━━━━━━━━━━━━━━━━━━━ 0s 49ms/step - accuracy: 0.7188 - loss: 0.660 ━━━━━━━━━━━━━━━━━━━━ 1s 179ms/step - accuracy: 0.6754 - loss: 0.7087 - val_accuracy: 0.8667 - val_loss: 0.4958\n",
      "Epoch 24/50\n",
      "4/4 ━━━━━━━━━━━━━━━━━━━━ 0s 66ms/step - accuracy: 0.7812 - loss: 0.653 ━━━━━━━━━━━━━━━━━━━━ 1s 175ms/step - accuracy: 0.6910 - loss: 0.6982 - val_accuracy: 0.8667 - val_loss: 0.4834\n",
      "Epoch 25/50\n",
      "4/4 ━━━━━━━━━━━━━━━━━━━━ 0s 39ms/step - accuracy: 0.5312 - loss: 0.831 ━━━━━━━━━━━━━━━━━━━━ 1s 162ms/step - accuracy: 0.6274 - loss: 0.7313 - val_accuracy: 0.8667 - val_loss: 0.4717\n",
      "Epoch 26/50\n",
      "4/4 ━━━━━━━━━━━━━━━━━━━━ 0s 72ms/step - accuracy: 0.7188 - loss: 0.649 ━━━━━━━━━━━━━━━━━━━━ 1s 165ms/step - accuracy: 0.6889 - loss: 0.6640 - val_accuracy: 0.8667 - val_loss: 0.4605\n",
      "Epoch 27/50\n",
      "4/4 ━━━━━━━━━━━━━━━━━━━━ 0s 68ms/step - accuracy: 0.5312 - loss: 0.731 ━━━━━━━━━━━━━━━━━━━━ 1s 172ms/step - accuracy: 0.6222 - loss: 0.6917 - val_accuracy: 0.8667 - val_loss: 0.4506\n",
      "Epoch 28/50\n",
      "4/4 ━━━━━━━━━━━━━━━━━━━━ 0s 68ms/step - accuracy: 0.6875 - loss: 0.694 ━━━━━━━━━━━━━━━━━━━━ 1s 172ms/step - accuracy: 0.6701 - loss: 0.6705 - val_accuracy: 0.8667 - val_loss: 0.4406\n",
      "Epoch 29/50\n",
      "4/4 ━━━━━━━━━━━━━━━━━━━━ 0s 64ms/step - accuracy: 0.7500 - loss: 0.625 ━━━━━━━━━━━━━━━━━━━━ 1s 164ms/step - accuracy: 0.6785 - loss: 0.6508 - val_accuracy: 0.8667 - val_loss: 0.4311\n",
      "Epoch 30/50\n",
      "4/4 ━━━━━━━━━━━━━━━━━━━━ 0s 75ms/step - accuracy: 0.5625 - loss: 0.694 ━━━━━━━━━━━━━━━━━━━━ 1s 170ms/step - accuracy: 0.6181 - loss: 0.6676 - val_accuracy: 0.8667 - val_loss: 0.4224\n",
      "Epoch 31/50\n",
      "4/4 ━━━━━━━━━━━━━━━━━━━━ 0s 50ms/step - accuracy: 0.5625 - loss: 0.681 ━━━━━━━━━━━━━━━━━━━━ 1s 166ms/step - accuracy: 0.6504 - loss: 0.6372 - val_accuracy: 0.8667 - val_loss: 0.4135\n",
      "Epoch 32/50\n",
      "4/4 ━━━━━━━━━━━━━━━━━━━━ 0s 69ms/step - accuracy: 0.7188 - loss: 0.565 ━━━━━━━━━━━━━━━━━━━━ 1s 167ms/step - accuracy: 0.6701 - loss: 0.6141 - val_accuracy: 0.8667 - val_loss: 0.4055\n",
      "Epoch 33/50\n",
      "4/4 ━━━━━━━━━━━━━━━━━━━━ 0s 34ms/step - accuracy: 0.6250 - loss: 0.665 ━━━━━━━━━━━━━━━━━━━━ 1s 156ms/step - accuracy: 0.6545 - loss: 0.6282 - val_accuracy: 0.8667 - val_loss: 0.3982\n",
      "Epoch 34/50\n",
      "4/4 ━━━━━━━━━━━━━━━━━━━━ 0s 31ms/step - accuracy: 0.7188 - loss: 0.539 ━━━━━━━━━━━━━━━━━━━━ 0s 156ms/step - accuracy: 0.6774 - loss: 0.5939 - val_accuracy: 0.8667 - val_loss: 0.3910\n",
      "Epoch 35/50\n",
      "4/4 ━━━━━━━━━━━━━━━━━━━━ 0s 31ms/step - accuracy: 0.5312 - loss: 0.733 ━━━━━━━━━━━━━━━━━━━━ 1s 248ms/step - accuracy: 0.6274 - loss: 0.6374 - val_accuracy: 0.8667 - val_loss: 0.3843\n",
      "Epoch 36/50\n",
      "4/4 ━━━━━━━━━━━━━━━━━━━━ 0s 53ms/step - accuracy: 0.6562 - loss: 0.604 ━━━━━━━━━━━━━━━━━━━━ 1s 172ms/step - accuracy: 0.6649 - loss: 0.5939 - val_accuracy: 0.8667 - val_loss: 0.3773\n",
      "Epoch 37/50\n",
      "4/4 ━━━━━━━━━━━━━━━━━━━━ 0s 53ms/step - accuracy: 0.5625 - loss: 0.630 ━━━━━━━━━━━━━━━━━━━━ 1s 161ms/step - accuracy: 0.6326 - loss: 0.5962 - val_accuracy: 0.8667 - val_loss: 0.3711\n",
      "Epoch 38/50\n",
      "4/4 ━━━━━━━━━━━━━━━━━━━━ 0s 49ms/step - accuracy: 0.6250 - loss: 0.570 ━━━━━━━━━━━━━━━━━━━━ 1s 159ms/step - accuracy: 0.6451 - loss: 0.5742 - val_accuracy: 0.8667 - val_loss: 0.3645\n",
      "Epoch 39/50\n",
      "4/4 ━━━━━━━━━━━━━━━━━━━━ 0s 40ms/step - accuracy: 0.6562 - loss: 0.592 ━━━━━━━━━━━━━━━━━━━━ 1s 173ms/step - accuracy: 0.6677 - loss: 0.5695 - val_accuracy: 0.8667 - val_loss: 0.3580\n",
      "Epoch 40/50\n",
      "4/4 ━━━━━━━━━━━━━━━━━━━━ 0s 46ms/step - accuracy: 0.5938 - loss: 0.602 ━━━━━━━━━━━━━━━━━━━━ 1s 157ms/step - accuracy: 0.6590 - loss: 0.5707 - val_accuracy: 0.8667 - val_loss: 0.3521\n",
      "Epoch 41/50\n",
      "4/4 ━━━━━━━━━━━━━━━━━━━━ 0s 36ms/step - accuracy: 0.6562 - loss: 0.576 ━━━━━━━━━━━━━━━━━━━━ 1s 166ms/step - accuracy: 0.6767 - loss: 0.5576 - val_accuracy: 0.8667 - val_loss: 0.3463\n",
      "Epoch 42/50\n",
      "4/4 ━━━━━━━━━━━━━━━━━━━━ 0s 30ms/step - accuracy: 0.7500 - loss: 0.523 ━━━━━━━━━━━━━━━━━━━━ 1s 178ms/step - accuracy: 0.7146 - loss: 0.5469 - val_accuracy: 0.8667 - val_loss: 0.3409\n",
      "Epoch 43/50\n",
      "4/4 ━━━━━━━━━━━━━━━━━━━━ 0s 49ms/step - accuracy: 0.8125 - loss: 0.480 ━━━━━━━━━━━━━━━━━━━━ 1s 173ms/step - accuracy: 0.7218 - loss: 0.5399 - val_accuracy: 0.8667 - val_loss: 0.3359\n",
      "Epoch 44/50\n",
      "4/4 ━━━━━━━━━━━━━━━━━━━━ 0s 40ms/step - accuracy: 0.6250 - loss: 0.642 ━━━━━━━━━━━━━━━━━━━━ 1s 184ms/step - accuracy: 0.6763 - loss: 0.5737 - val_accuracy: 0.8667 - val_loss: 0.3311\n",
      "Epoch 45/50\n",
      "4/4 ━━━━━━━━━━━━━━━━━━━━ 0s 45ms/step - accuracy: 0.7812 - loss: 0.484 ━━━━━━━━━━━━━━━━━━━━ 1s 158ms/step - accuracy: 0.7253 - loss: 0.5297 - val_accuracy: 0.8667 - val_loss: 0.3259\n",
      "Epoch 46/50\n",
      "4/4 ━━━━━━━━━━━━━━━━━━━━ 0s 47ms/step - accuracy: 0.6875 - loss: 0.504 ━━━━━━━━━━━━━━━━━━━━ 1s 163ms/step - accuracy: 0.7045 - loss: 0.5196 - val_accuracy: 0.8667 - val_loss: 0.3209\n",
      "Epoch 47/50\n",
      "4/4 ━━━━━━━━━━━━━━━━━━━━ 0s 86ms/step - accuracy: 0.7812 - loss: 0.516 ━━━━━━━━━━━━━━━━━━━━ 1s 161ms/step - accuracy: 0.7357 - loss: 0.5212 - val_accuracy: 0.8667 - val_loss: 0.3159\n",
      "Epoch 48/50\n",
      "4/4 ━━━━━━━━━━━━━━━━━━━━ 0s 66ms/step - accuracy: 0.7812 - loss: 0.441 ━━━━━━━━━━━━━━━━━━━━ 1s 193ms/step - accuracy: 0.7315 - loss: 0.5008 - val_accuracy: 0.8667 - val_loss: 0.3112\n",
      "Epoch 49/50\n",
      "4/4 ━━━━━━━━━━━━━━━━━━━━ 0s 27ms/step - accuracy: 0.5625 - loss: 0.657 ━━━━━━━━━━━━━━━━━━━━ 1s 176ms/step - accuracy: 0.6743 - loss: 0.5458 - val_accuracy: 0.8667 - val_loss: 0.3071\n",
      "Epoch 50/50\n",
      "4/4 ━━━━━━━━━━━━━━━━━━━━ 0s 29ms/step - accuracy: 0.7812 - loss: 0.445 ━━━━━━━━━━━━━━━━━━━━ 0s 153ms/step - accuracy: 0.7364 - loss: 0.4950 - val_accuracy: 0.8667 - val_loss: 0.3030\n"
     ]
    }
   ],
   "source": [
    "# Train the model \n",
    "\n",
    "history = model.fit(\n",
    "    X_train, y_train,\n",
    "    validation_data=(X_val, y_val),\n",
    "    batch_size=config.batch_size,\n",
    "    epochs=config.epochs,\n",
    "    callbacks=[\n",
    "        WandbMetricsLogger(),\n",
    "        WandbModelCheckpoint(filepath=\"model-checkpoints/model.keras\")\n",
    "    ]\n",
    ")"
   ]
  },
  {
   "cell_type": "code",
   "execution_count": 19,
   "metadata": {},
   "outputs": [
    {
     "name": "stdout",
     "output_type": "stream",
     "text": [
      "1/1 ━━━━━━━━━━━━━━━━━━━━ 0s 22ms/step - accuracy: 0.6667 - loss: 0.492 ━━━━━━━━━━━━━━━━━━━━ 0s 42ms/step - accuracy: 0.6667 - loss: 0.4923\n",
      "1/1 ━━━━━━━━━━━━━━━━━━━━ 0s 38ms/ste ━━━━━━━━━━━━━━━━━━━━ 0s 58ms/step\n"
     ]
    }
   ],
   "source": [
    "# Evaluate the model\n",
    "\n",
    "test_loss, test_accuracy = model.evaluate(X_test, y_test)\n",
    "y_pred = model.predict(X_test)\n",
    "y_pred_classes = np.argmax(y_pred, axis=1)\n",
    "y_true_classes = np.argmax(y_test, axis=1)\n",
    "\n",
    "precision = precision_score(y_true_classes, y_pred_classes, average='weighted')\n",
    "recall = recall_score(y_true_classes, y_pred_classes, average='weighted')\n",
    "f1 = f1_score(y_true_classes, y_pred_classes, average='weighted')"
   ]
  },
  {
   "cell_type": "code",
   "execution_count": 20,
   "metadata": {},
   "outputs": [],
   "source": [
    "# Log final evaluation metrics\n",
    "\n",
    "wandb.log({\n",
    "    \"test_loss\": test_loss,\n",
    "    \"test_accuracy\": test_accuracy,\n",
    "    \"precision\": precision,\n",
    "    \"recall\": recall,\n",
    "    \"f1_score\": f1\n",
    "})"
   ]
  },
  {
   "cell_type": "code",
   "execution_count": 21,
   "metadata": {},
   "outputs": [],
   "source": [
    "# Log confusion matrix\n",
    "\n",
    "cm = confusion_matrix(y_true_classes, y_pred_classes)\n",
    "plt.figure(figsize=(8, 6))\n",
    "sns.heatmap(cm, annot=True, fmt='d', cmap='Blues')\n",
    "plt.title('Confusion Matrix')\n",
    "plt.xlabel('Predicted')\n",
    "plt.ylabel('True')\n",
    "wandb.log({\"confusion_matrix\": wandb.Image(plt)})\n",
    "plt.close()"
   ]
  },
  {
   "cell_type": "code",
   "execution_count": 22,
   "metadata": {},
   "outputs": [],
   "source": [
    "# Log loss curves\n",
    "\n",
    "plt.figure(figsize=(10, 6))\n",
    "plt.plot(history.history['loss'], label='Training Loss')\n",
    "plt.plot(history.history['val_loss'], label='Validation Loss')\n",
    "plt.title('Training and Validation Loss')\n",
    "plt.xlabel('Epoch')\n",
    "plt.ylabel('Loss')\n",
    "plt.legend()\n",
    "wandb.log({\"loss_curves\": wandb.Image(plt)})\n",
    "plt.close()"
   ]
  },
  {
   "cell_type": "code",
   "execution_count": 24,
   "metadata": {},
   "outputs": [
    {
     "data": {
      "text/html": [],
      "text/plain": [
       "<IPython.core.display.HTML object>"
      ]
     },
     "metadata": {},
     "output_type": "display_data"
    },
    {
     "data": {
      "text/html": [
       "<br>    <style><br>        .wandb-row {<br>            display: flex;<br>            flex-direction: row;<br>            flex-wrap: wrap;<br>            justify-content: flex-start;<br>            width: 100%;<br>        }<br>        .wandb-col {<br>            display: flex;<br>            flex-direction: column;<br>            flex-basis: 100%;<br>            flex: 1;<br>            padding: 10px;<br>        }<br>    </style><br><div class=\"wandb-row\"><div class=\"wandb-col\"><h3>Run history:</h3><br/><table class=\"wandb\"><tr><td>epoch/accuracy</td><td>▁▂▂▂▃▃▄▄▄▅▅▅▆▆▆▇▇▇▇▇▇▇▇▇▇▇▇▇▇▇▇▇▇▇██████</td></tr><tr><td>epoch/epoch</td><td>▁▁▁▁▂▂▂▂▂▃▃▃▃▃▃▄▄▄▄▄▅▅▅▅▅▅▆▆▆▆▆▆▇▇▇▇▇███</td></tr><tr><td>epoch/learning_rate</td><td>▁▁▁▁▁▁▁▁▁▁▁▁▁▁▁▁▁▁▁▁▁▁▁▁▁▁▁▁▁▁▁▁▁▁▁▁▁▁▁▁</td></tr><tr><td>epoch/loss</td><td>██▇▇▇▆▆▅▅▅▄▄▄▄▄▄▃▃▃▃▃▃▂▂▂▂▂▂▂▂▂▂▂▁▁▁▁▁▁▁</td></tr><tr><td>epoch/val_accuracy</td><td>▁▁▁▁▃▅▆▇▇▇██████████████████████████████</td></tr><tr><td>epoch/val_loss</td><td>██▇▇▆▆▅▅▅▅▄▄▄▄▃▃▃▃▃▃▂▂▂▂▂▂▂▂▂▂▂▂▁▁▁▁▁▁▁▁</td></tr><tr><td>f1_score</td><td>▁</td></tr><tr><td>precision</td><td>▁</td></tr><tr><td>recall</td><td>▁</td></tr><tr><td>test_accuracy</td><td>▁</td></tr><tr><td>test_loss</td><td>▁</td></tr></table><br/></div><div class=\"wandb-col\"><h3>Run summary:</h3><br/><table class=\"wandb\"><tr><td>epoch/accuracy</td><td>0.72381</td></tr><tr><td>epoch/epoch</td><td>49</td></tr><tr><td>epoch/learning_rate</td><td>0.001</td></tr><tr><td>epoch/loss</td><td>0.50838</td></tr><tr><td>epoch/val_accuracy</td><td>0.86667</td></tr><tr><td>epoch/val_loss</td><td>0.30298</td></tr><tr><td>f1_score</td><td>0.59722</td></tr><tr><td>precision</td><td>0.86275</td></tr><tr><td>recall</td><td>0.66667</td></tr><tr><td>test_accuracy</td><td>0.66667</td></tr><tr><td>test_loss</td><td>0.49227</td></tr></table><br/></div></div>"
      ],
      "text/plain": [
       "<IPython.core.display.HTML object>"
      ]
     },
     "metadata": {},
     "output_type": "display_data"
    },
    {
     "data": {
      "text/html": [
       " View run <strong style=\"color:#cdcd00\">experiment_1</strong> at: <a href='https://wandb.ai/darpana-indian-institute-of-technology-gandhinagar/iris_mlp/runs/jxioliz3' target=\"_blank\">https://wandb.ai/darpana-indian-institute-of-technology-gandhinagar/iris_mlp/runs/jxioliz3</a><br> View project at: <a href='https://wandb.ai/darpana-indian-institute-of-technology-gandhinagar/iris_mlp' target=\"_blank\">https://wandb.ai/darpana-indian-institute-of-technology-gandhinagar/iris_mlp</a><br>Synced 5 W&B file(s), 2 media file(s), 100 artifact file(s) and 0 other file(s)"
      ],
      "text/plain": [
       "<IPython.core.display.HTML object>"
      ]
     },
     "metadata": {},
     "output_type": "display_data"
    },
    {
     "data": {
      "text/html": [
       "Find logs at: <code>.\\wandb\\run-20250224_203218-jxioliz3\\logs</code>"
      ],
      "text/plain": [
       "<IPython.core.display.HTML object>"
      ]
     },
     "metadata": {},
     "output_type": "display_data"
    }
   ],
   "source": [
    "# Finish the W&B run\n",
    "\n",
    "wandb.finish()"
   ]
  }
 ],
 "metadata": {
  "kernelspec": {
   "display_name": "Python 3",
   "language": "python",
   "name": "python3"
  },
  "language_info": {
   "codemirror_mode": {
    "name": "ipython",
    "version": 3
   },
   "file_extension": ".py",
   "mimetype": "text/x-python",
   "name": "python",
   "nbconvert_exporter": "python",
   "pygments_lexer": "ipython3",
   "version": "3.12.7"
  }
 },
 "nbformat": 4,
 "nbformat_minor": 2
}
